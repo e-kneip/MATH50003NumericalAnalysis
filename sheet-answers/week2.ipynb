{
 "cells": [
  {
   "cell_type": "markdown",
   "metadata": {},
   "source": [
    "# MATH50003 Numerical Analysis: Problem Sheet 2\n",
    "\n",
    "This week we look at other variants of finite-differences, including central differences and second-order\n",
    "finite-differences. We also investigate mathematical properties of dual numbers, extend their implementation to\n",
    "other functions. Finally, we see how dual numbers can be combined with Newton iteration for root finding.\n",
    "\n",
    "Questions marked with a ⋆ are meant to be completed without using a computer.\n",
    "\n",
    "## 1. Finite-differences\n",
    "\n",
    "**Problem 1.1⋆** Use Taylor's theorem to derive an error bound for central differences\n",
    "$$\n",
    "f'(x) ≈ {f(x + h) - f(x - h) \\over 2h}.\n",
    "$$\n",
    "Find an error bound when implemented in floating point arithmetic, assuming that\n",
    "$$\n",
    "f^{\\rm FP}(x) = f(x) + δ_x\n",
    "$$\n",
    "where $|δ_x| \\leq c ϵ_{\\rm m}$."
   ]
  },
  {
   "cell_type": "code",
   "execution_count": 2,
   "metadata": {},
   "outputs": [],
   "source": [
    "# Question 1.1\n",
    "\n",
    "# f'(x) ≈ (f(x+h) - f(x-h))/2h\n",
    "#       ≈ (f(x) + hf'(x) + h^2*f''(t_1)^2/2 - f(x) + hf'(x) - h^2*f''(t_2)^2/2)/2h for x ≤ t_1, t_2 ≤ x+h\n",
    "#       = f'(x) + h/4 * (f''(t_1) - f''(t_2)) \n",
    "# ⟹ error bound ≤ h/4 * (M-m) where M=sup(f''(t)) and m=inf(f''(t)) for x ≤ t ≤ x+h\n",
    "\n",
    "# f'(x) ≈ (f(x+h) - f(x-h))/2h\n",
    "#       ≈ (f^{FP}(x+h) - f^{FP}(x-h))/2h\n",
    "#       ≈ [(f(x+h) - f(x-h))/2h + (δ_ + δ_)/2h] * (1+δ)\n",
    "#       ≈ (h/4 * (M-m)) * (1+δ) + δ_/h * (1+δ)\n",
    "# ⟹ error = (h/4 * (M-m)) * δ + δ_/h * (1+δ)\n",
    "#          ≤ δ * (h/4 * (M-m) + 1/h) + δ_/h\n",
    "#          ≤ ϵ_m/2 * (h/4 * (M-m) + 1/h) + cϵ_m/h\n",
    "#          = ϵ_m * (h/8 * (M-m) + 1/2h + c/h)"
   ]
  },
  {
   "cell_type": "markdown",
   "metadata": {},
   "source": [
    "**Problem 1.2** Implement central differences for $f(x) = 1 + x + x^2$ and $g(x) = 1 + x/3 + x^2$. \n",
    "Plot the errors for `h = 2.0 .^ (0:-1:-60)` and `h = 10.0 .^ (0:-1:-16)`. \n",
    "Derive the error exactly for the different cases to explain the observed behaviour."
   ]
  },
  {
   "cell_type": "code",
   "execution_count": 2,
   "metadata": {},
   "outputs": [],
   "source": [
    "using Plots"
   ]
  },
  {
   "cell_type": "code",
   "execution_count": 7,
   "metadata": {},
   "outputs": [
    {
     "data": {
      "image/svg+xml": "<?xml version=\"1.0\" encoding=\"utf-8\"?>\n<svg xmlns=\"http://www.w3.org/2000/svg\" xmlns:xlink=\"http://www.w3.org/1999/xlink\" width=\"600\" height=\"400\" viewBox=\"0 0 2400 1600\">\n<defs>\n  <clipPath id=\"clip110\">\n    <rect x=\"0\" y=\"0\" width=\"2400\" height=\"1600\"/>\n  </clipPath>\n</defs>\n<path clip-path=\"url(#clip110)\" d=\"\nM0 1600 L2400 1600 L2400 0 L0 0  Z\n  \" fill=\"#ffffff\" fill-rule=\"evenodd\" fill-opacity=\"1\"/>\n<defs>\n  <clipPath id=\"clip111\">\n    <rect x=\"480\" y=\"0\" width=\"1681\" height=\"1600\"/>\n  </clipPath>\n</defs>\n<path clip-path=\"url(#clip110)\" d=\"\nM213.607 1486.45 L2352.76 1486.45 L2352.76 47.2441 L213.607 47.2441  Z\n  \" fill=\"#ffffff\" fill-rule=\"evenodd\" fill-opacity=\"1\"/>\n<defs>\n  <clipPath id=\"clip112\">\n    <rect x=\"213\" y=\"47\" width=\"2140\" height=\"1440\"/>\n  </clipPath>\n</defs>\n<polyline clip-path=\"url(#clip112)\" style=\"stroke:#000000; stroke-linecap:butt; stroke-linejoin:round; stroke-width:2; stroke-opacity:0.1; fill:none\" points=\"\n  240.515,1486.45 240.515,47.2441 \n  \"/>\n<polyline clip-path=\"url(#clip112)\" style=\"stroke:#000000; stroke-linecap:butt; stroke-linejoin:round; stroke-width:2; stroke-opacity:0.1; fill:none\" points=\"\n  576.859,1486.45 576.859,47.2441 \n  \"/>\n<polyline clip-path=\"url(#clip112)\" style=\"stroke:#000000; stroke-linecap:butt; stroke-linejoin:round; stroke-width:2; stroke-opacity:0.1; fill:none\" points=\"\n  913.203,1486.45 913.203,47.2441 \n  \"/>\n<polyline clip-path=\"url(#clip112)\" style=\"stroke:#000000; stroke-linecap:butt; stroke-linejoin:round; stroke-width:2; stroke-opacity:0.1; fill:none\" points=\"\n  1249.55,1486.45 1249.55,47.2441 \n  \"/>\n<polyline clip-path=\"url(#clip112)\" style=\"stroke:#000000; stroke-linecap:butt; stroke-linejoin:round; stroke-width:2; stroke-opacity:0.1; fill:none\" points=\"\n  1585.89,1486.45 1585.89,47.2441 \n  \"/>\n<polyline clip-path=\"url(#clip112)\" style=\"stroke:#000000; stroke-linecap:butt; stroke-linejoin:round; stroke-width:2; stroke-opacity:0.1; fill:none\" points=\"\n  1922.24,1486.45 1922.24,47.2441 \n  \"/>\n<polyline clip-path=\"url(#clip112)\" style=\"stroke:#000000; stroke-linecap:butt; stroke-linejoin:round; stroke-width:2; stroke-opacity:0.1; fill:none\" points=\"\n  2258.58,1486.45 2258.58,47.2441 \n  \"/>\n<polyline clip-path=\"url(#clip110)\" style=\"stroke:#000000; stroke-linecap:butt; stroke-linejoin:round; stroke-width:4; stroke-opacity:1; fill:none\" points=\"\n  213.607,1486.45 2352.76,1486.45 \n  \"/>\n<polyline clip-path=\"url(#clip110)\" style=\"stroke:#000000; stroke-linecap:butt; stroke-linejoin:round; stroke-width:4; stroke-opacity:1; fill:none\" points=\"\n  240.515,1486.45 240.515,1467.55 \n  \"/>\n<polyline clip-path=\"url(#clip110)\" style=\"stroke:#000000; stroke-linecap:butt; stroke-linejoin:round; stroke-width:4; stroke-opacity:1; fill:none\" points=\"\n  576.859,1486.45 576.859,1467.55 \n  \"/>\n<polyline clip-path=\"url(#clip110)\" style=\"stroke:#000000; stroke-linecap:butt; stroke-linejoin:round; stroke-width:4; stroke-opacity:1; fill:none\" points=\"\n  913.203,1486.45 913.203,1467.55 \n  \"/>\n<polyline clip-path=\"url(#clip110)\" style=\"stroke:#000000; stroke-linecap:butt; stroke-linejoin:round; stroke-width:4; stroke-opacity:1; fill:none\" points=\"\n  1249.55,1486.45 1249.55,1467.55 \n  \"/>\n<polyline clip-path=\"url(#clip110)\" style=\"stroke:#000000; stroke-linecap:butt; stroke-linejoin:round; stroke-width:4; stroke-opacity:1; fill:none\" points=\"\n  1585.89,1486.45 1585.89,1467.55 \n  \"/>\n<polyline clip-path=\"url(#clip110)\" style=\"stroke:#000000; stroke-linecap:butt; stroke-linejoin:round; stroke-width:4; stroke-opacity:1; fill:none\" points=\"\n  1922.24,1486.45 1922.24,1467.55 \n  \"/>\n<polyline clip-path=\"url(#clip110)\" style=\"stroke:#000000; stroke-linecap:butt; stroke-linejoin:round; stroke-width:4; stroke-opacity:1; fill:none\" points=\"\n  2258.58,1486.45 2258.58,1467.55 \n  \"/>\n<path clip-path=\"url(#clip110)\" d=\"M240.515 1517.37 Q236.904 1517.37 235.075 1520.93 Q233.27 1524.47 233.27 1531.6 Q233.27 1538.71 235.075 1542.27 Q236.904 1545.82 240.515 1545.82 Q244.149 1545.82 245.955 1542.27 Q247.783 1538.71 247.783 1531.6 Q247.783 1524.47 245.955 1520.93 Q244.149 1517.37 240.515 1517.37 M240.515 1513.66 Q246.325 1513.66 249.381 1518.27 Q252.459 1522.85 252.459 1531.6 Q252.459 1540.33 249.381 1544.94 Q246.325 1549.52 240.515 1549.52 Q234.705 1549.52 231.626 1544.94 Q228.571 1540.33 228.571 1531.6 Q228.571 1522.85 231.626 1518.27 Q234.705 1513.66 240.515 1513.66 Z\" fill=\"#000000\" fill-rule=\"evenodd\" fill-opacity=\"1\" /><path clip-path=\"url(#clip110)\" d=\"M551.547 1544.91 L559.186 1544.91 L559.186 1518.55 L550.875 1520.21 L550.875 1515.95 L559.139 1514.29 L563.815 1514.29 L563.815 1544.91 L571.454 1544.91 L571.454 1548.85 L551.547 1548.85 L551.547 1544.91 Z\" fill=\"#000000\" fill-rule=\"evenodd\" fill-opacity=\"1\" /><path clip-path=\"url(#clip110)\" d=\"M590.898 1517.37 Q587.287 1517.37 585.459 1520.93 Q583.653 1524.47 583.653 1531.6 Q583.653 1538.71 585.459 1542.27 Q587.287 1545.82 590.898 1545.82 Q594.533 1545.82 596.338 1542.27 Q598.167 1538.71 598.167 1531.6 Q598.167 1524.47 596.338 1520.93 Q594.533 1517.37 590.898 1517.37 M590.898 1513.66 Q596.709 1513.66 599.764 1518.27 Q602.843 1522.85 602.843 1531.6 Q602.843 1540.33 599.764 1544.94 Q596.709 1549.52 590.898 1549.52 Q585.088 1549.52 582.01 1544.94 Q578.954 1540.33 578.954 1531.6 Q578.954 1522.85 582.01 1518.27 Q585.088 1513.66 590.898 1513.66 Z\" fill=\"#000000\" fill-rule=\"evenodd\" fill-opacity=\"1\" /><path clip-path=\"url(#clip110)\" d=\"M891.976 1544.91 L908.296 1544.91 L908.296 1548.85 L886.351 1548.85 L886.351 1544.91 Q889.014 1542.16 893.597 1537.53 Q898.203 1532.88 899.384 1531.53 Q901.629 1529.01 902.509 1527.27 Q903.412 1525.51 903.412 1523.82 Q903.412 1521.07 901.467 1519.33 Q899.546 1517.6 896.444 1517.6 Q894.245 1517.6 891.791 1518.36 Q889.361 1519.13 886.583 1520.68 L886.583 1515.95 Q889.407 1514.82 891.861 1514.24 Q894.314 1513.66 896.351 1513.66 Q901.722 1513.66 904.916 1516.35 Q908.111 1519.03 908.111 1523.52 Q908.111 1525.65 907.3 1527.57 Q906.513 1529.47 904.407 1532.07 Q903.828 1532.74 900.726 1535.95 Q897.625 1539.15 891.976 1544.91 Z\" fill=\"#000000\" fill-rule=\"evenodd\" fill-opacity=\"1\" /><path clip-path=\"url(#clip110)\" d=\"M928.111 1517.37 Q924.499 1517.37 922.671 1520.93 Q920.865 1524.47 920.865 1531.6 Q920.865 1538.71 922.671 1542.27 Q924.499 1545.82 928.111 1545.82 Q931.745 1545.82 933.55 1542.27 Q935.379 1538.71 935.379 1531.6 Q935.379 1524.47 933.55 1520.93 Q931.745 1517.37 928.111 1517.37 M928.111 1513.66 Q933.921 1513.66 936.976 1518.27 Q940.055 1522.85 940.055 1531.6 Q940.055 1540.33 936.976 1544.94 Q933.921 1549.52 928.111 1549.52 Q922.3 1549.52 919.222 1544.94 Q916.166 1540.33 916.166 1531.6 Q916.166 1522.85 919.222 1518.27 Q922.3 1513.66 928.111 1513.66 Z\" fill=\"#000000\" fill-rule=\"evenodd\" fill-opacity=\"1\" /><path clip-path=\"url(#clip110)\" d=\"M1238.39 1530.21 Q1241.75 1530.93 1243.62 1533.2 Q1245.52 1535.47 1245.52 1538.8 Q1245.52 1543.92 1242 1546.72 Q1238.48 1549.52 1232 1549.52 Q1229.83 1549.52 1227.51 1549.08 Q1225.22 1548.66 1222.77 1547.81 L1222.77 1543.29 Q1224.71 1544.43 1227.02 1545.01 Q1229.34 1545.58 1231.86 1545.58 Q1236.26 1545.58 1238.55 1543.85 Q1240.87 1542.11 1240.87 1538.8 Q1240.87 1535.75 1238.71 1534.03 Q1236.58 1532.3 1232.76 1532.3 L1228.74 1532.3 L1228.74 1528.45 L1232.95 1528.45 Q1236.4 1528.45 1238.23 1527.09 Q1240.06 1525.7 1240.06 1523.11 Q1240.06 1520.45 1238.16 1519.03 Q1236.28 1517.6 1232.76 1517.6 Q1230.84 1517.6 1228.64 1518.01 Q1226.45 1518.43 1223.81 1519.31 L1223.81 1515.14 Q1226.47 1514.4 1228.78 1514.03 Q1231.12 1513.66 1233.18 1513.66 Q1238.51 1513.66 1241.61 1516.09 Q1244.71 1518.5 1244.71 1522.62 Q1244.71 1525.49 1243.07 1527.48 Q1241.42 1529.45 1238.39 1530.21 Z\" fill=\"#000000\" fill-rule=\"evenodd\" fill-opacity=\"1\" /><path clip-path=\"url(#clip110)\" d=\"M1264.39 1517.37 Q1260.77 1517.37 1258.95 1520.93 Q1257.14 1524.47 1257.14 1531.6 Q1257.14 1538.71 1258.95 1542.27 Q1260.77 1545.82 1264.39 1545.82 Q1268.02 1545.82 1269.82 1542.27 Q1271.65 1538.71 1271.65 1531.6 Q1271.65 1524.47 1269.82 1520.93 Q1268.02 1517.37 1264.39 1517.37 M1264.39 1513.66 Q1270.2 1513.66 1273.25 1518.27 Q1276.33 1522.85 1276.33 1531.6 Q1276.33 1540.33 1273.25 1544.94 Q1270.2 1549.52 1264.39 1549.52 Q1258.58 1549.52 1255.5 1544.94 Q1252.44 1540.33 1252.44 1531.6 Q1252.44 1522.85 1255.5 1518.27 Q1258.58 1513.66 1264.39 1513.66 Z\" fill=\"#000000\" fill-rule=\"evenodd\" fill-opacity=\"1\" /><path clip-path=\"url(#clip110)\" d=\"M1574.06 1518.36 L1562.26 1536.81 L1574.06 1536.81 L1574.06 1518.36 M1572.84 1514.29 L1578.72 1514.29 L1578.72 1536.81 L1583.65 1536.81 L1583.65 1540.7 L1578.72 1540.7 L1578.72 1548.85 L1574.06 1548.85 L1574.06 1540.7 L1558.46 1540.7 L1558.46 1536.19 L1572.84 1514.29 Z\" fill=\"#000000\" fill-rule=\"evenodd\" fill-opacity=\"1\" /><path clip-path=\"url(#clip110)\" d=\"M1601.38 1517.37 Q1597.77 1517.37 1595.94 1520.93 Q1594.13 1524.47 1594.13 1531.6 Q1594.13 1538.71 1595.94 1542.27 Q1597.77 1545.82 1601.38 1545.82 Q1605.01 1545.82 1606.82 1542.27 Q1608.65 1538.71 1608.65 1531.6 Q1608.65 1524.47 1606.82 1520.93 Q1605.01 1517.37 1601.38 1517.37 M1601.38 1513.66 Q1607.19 1513.66 1610.24 1518.27 Q1613.32 1522.85 1613.32 1531.6 Q1613.32 1540.33 1610.24 1544.94 Q1607.19 1549.52 1601.38 1549.52 Q1595.57 1549.52 1592.49 1544.94 Q1589.43 1540.33 1589.43 1531.6 Q1589.43 1522.85 1592.49 1518.27 Q1595.57 1513.66 1601.38 1513.66 Z\" fill=\"#000000\" fill-rule=\"evenodd\" fill-opacity=\"1\" /><path clip-path=\"url(#clip110)\" d=\"M1896.93 1514.29 L1915.29 1514.29 L1915.29 1518.22 L1901.22 1518.22 L1901.22 1526.7 Q1902.24 1526.35 1903.25 1526.19 Q1904.27 1526 1905.29 1526 Q1911.08 1526 1914.46 1529.17 Q1917.84 1532.34 1917.84 1537.76 Q1917.84 1543.34 1914.37 1546.44 Q1910.89 1549.52 1904.57 1549.52 Q1902.4 1549.52 1900.13 1549.15 Q1897.88 1548.78 1895.48 1548.04 L1895.48 1543.34 Q1897.56 1544.47 1899.78 1545.03 Q1902 1545.58 1904.48 1545.58 Q1908.49 1545.58 1910.82 1543.48 Q1913.16 1541.37 1913.16 1537.76 Q1913.16 1534.15 1910.82 1532.04 Q1908.49 1529.94 1904.48 1529.94 Q1902.61 1529.94 1900.73 1530.35 Q1898.88 1530.77 1896.93 1531.65 L1896.93 1514.29 Z\" fill=\"#000000\" fill-rule=\"evenodd\" fill-opacity=\"1\" /><path clip-path=\"url(#clip110)\" d=\"M1937.05 1517.37 Q1933.44 1517.37 1931.61 1520.93 Q1929.8 1524.47 1929.8 1531.6 Q1929.8 1538.71 1931.61 1542.27 Q1933.44 1545.82 1937.05 1545.82 Q1940.68 1545.82 1942.49 1542.27 Q1944.32 1538.71 1944.32 1531.6 Q1944.32 1524.47 1942.49 1520.93 Q1940.68 1517.37 1937.05 1517.37 M1937.05 1513.66 Q1942.86 1513.66 1945.92 1518.27 Q1948.99 1522.85 1948.99 1531.6 Q1948.99 1540.33 1945.92 1544.94 Q1942.86 1549.52 1937.05 1549.52 Q1931.24 1549.52 1928.16 1544.94 Q1925.11 1540.33 1925.11 1531.6 Q1925.11 1522.85 1928.16 1518.27 Q1931.24 1513.66 1937.05 1513.66 Z\" fill=\"#000000\" fill-rule=\"evenodd\" fill-opacity=\"1\" /><path clip-path=\"url(#clip110)\" d=\"M2243.98 1529.7 Q2240.84 1529.7 2238.98 1531.86 Q2237.16 1534.01 2237.16 1537.76 Q2237.16 1541.49 2238.98 1543.66 Q2240.84 1545.82 2243.98 1545.82 Q2247.13 1545.82 2248.96 1543.66 Q2250.81 1541.49 2250.81 1537.76 Q2250.81 1534.01 2248.96 1531.86 Q2247.13 1529.7 2243.98 1529.7 M2253.27 1515.05 L2253.27 1519.31 Q2251.51 1518.48 2249.7 1518.04 Q2247.92 1517.6 2246.16 1517.6 Q2241.53 1517.6 2239.08 1520.72 Q2236.65 1523.85 2236.3 1530.17 Q2237.67 1528.15 2239.73 1527.09 Q2241.79 1526 2244.26 1526 Q2249.47 1526 2252.48 1529.17 Q2255.51 1532.32 2255.51 1537.76 Q2255.51 1543.08 2252.36 1546.3 Q2249.22 1549.52 2243.98 1549.52 Q2237.99 1549.52 2234.82 1544.94 Q2231.65 1540.33 2231.65 1531.6 Q2231.65 1523.41 2235.54 1518.55 Q2239.42 1513.66 2245.98 1513.66 Q2247.73 1513.66 2249.52 1514.01 Q2251.32 1514.36 2253.27 1515.05 Z\" fill=\"#000000\" fill-rule=\"evenodd\" fill-opacity=\"1\" /><path clip-path=\"url(#clip110)\" d=\"M2273.57 1517.37 Q2269.96 1517.37 2268.13 1520.93 Q2266.32 1524.47 2266.32 1531.6 Q2266.32 1538.71 2268.13 1542.27 Q2269.96 1545.82 2273.57 1545.82 Q2277.2 1545.82 2279.01 1542.27 Q2280.84 1538.71 2280.84 1531.6 Q2280.84 1524.47 2279.01 1520.93 Q2277.2 1517.37 2273.57 1517.37 M2273.57 1513.66 Q2279.38 1513.66 2282.43 1518.27 Q2285.51 1522.85 2285.51 1531.6 Q2285.51 1540.33 2282.43 1544.94 Q2279.38 1549.52 2273.57 1549.52 Q2267.76 1549.52 2264.68 1544.94 Q2261.62 1540.33 2261.62 1531.6 Q2261.62 1522.85 2264.68 1518.27 Q2267.76 1513.66 2273.57 1513.66 Z\" fill=\"#000000\" fill-rule=\"evenodd\" fill-opacity=\"1\" /><polyline clip-path=\"url(#clip112)\" style=\"stroke:#000000; stroke-linecap:butt; stroke-linejoin:round; stroke-width:2; stroke-opacity:0.1; fill:none\" points=\"\n  213.607,923.219 2352.76,923.219 \n  \"/>\n<polyline clip-path=\"url(#clip112)\" style=\"stroke:#000000; stroke-linecap:butt; stroke-linejoin:round; stroke-width:2; stroke-opacity:0.1; fill:none\" points=\"\n  213.607,87.9763 2352.76,87.9763 \n  \"/>\n<polyline clip-path=\"url(#clip110)\" style=\"stroke:#000000; stroke-linecap:butt; stroke-linejoin:round; stroke-width:4; stroke-opacity:1; fill:none\" points=\"\n  213.607,1486.45 213.607,47.2441 \n  \"/>\n<polyline clip-path=\"url(#clip110)\" style=\"stroke:#000000; stroke-linecap:butt; stroke-linejoin:round; stroke-width:4; stroke-opacity:1; fill:none\" points=\"\n  213.607,923.219 232.505,923.219 \n  \"/>\n<polyline clip-path=\"url(#clip110)\" style=\"stroke:#000000; stroke-linecap:butt; stroke-linejoin:round; stroke-width:4; stroke-opacity:1; fill:none\" points=\"\n  213.607,87.9763 232.505,87.9763 \n  \"/>\n<path clip-path=\"url(#clip110)\" d=\"M51.6634 943.012 L59.3023 943.012 L59.3023 916.646 L50.9921 918.313 L50.9921 914.054 L59.256 912.387 L63.9319 912.387 L63.9319 943.012 L71.5707 943.012 L71.5707 946.947 L51.6634 946.947 L51.6634 943.012 Z\" fill=\"#000000\" fill-rule=\"evenodd\" fill-opacity=\"1\" /><path clip-path=\"url(#clip110)\" d=\"M91.0151 915.466 Q87.404 915.466 85.5753 919.03 Q83.7697 922.572 83.7697 929.702 Q83.7697 936.808 85.5753 940.373 Q87.404 943.915 91.0151 943.915 Q94.6493 943.915 96.4548 940.373 Q98.2835 936.808 98.2835 929.702 Q98.2835 922.572 96.4548 919.03 Q94.6493 915.466 91.0151 915.466 M91.0151 911.762 Q96.8252 911.762 99.8808 916.368 Q102.959 920.952 102.959 929.702 Q102.959 938.428 99.8808 943.035 Q96.8252 947.618 91.0151 947.618 Q85.2049 947.618 82.1262 943.035 Q79.0707 938.428 79.0707 929.702 Q79.0707 920.952 82.1262 916.368 Q85.2049 911.762 91.0151 911.762 Z\" fill=\"#000000\" fill-rule=\"evenodd\" fill-opacity=\"1\" /><path clip-path=\"url(#clip110)\" d=\"M102.959 905.863 L127.071 905.863 L127.071 909.061 L102.959 909.061 L102.959 905.863 Z\" fill=\"#000000\" fill-rule=\"evenodd\" fill-opacity=\"1\" /><path clip-path=\"url(#clip110)\" d=\"M135.929 916.339 L142.136 916.339 L142.136 894.917 L135.384 896.271 L135.384 892.811 L142.098 891.457 L145.898 891.457 L145.898 916.339 L152.104 916.339 L152.104 919.537 L135.929 919.537 L135.929 916.339 Z\" fill=\"#000000\" fill-rule=\"evenodd\" fill-opacity=\"1\" /><path clip-path=\"url(#clip110)\" d=\"M167.903 893.958 Q164.969 893.958 163.483 896.854 Q162.016 899.732 162.016 905.525 Q162.016 911.299 163.483 914.195 Q164.969 917.073 167.903 917.073 Q170.855 917.073 172.322 914.195 Q173.808 911.299 173.808 905.525 Q173.808 899.732 172.322 896.854 Q170.855 893.958 167.903 893.958 M167.903 890.949 Q172.623 890.949 175.106 894.692 Q177.607 898.415 177.607 905.525 Q177.607 912.615 175.106 916.358 Q172.623 920.082 167.903 920.082 Q163.182 920.082 160.68 916.358 Q158.198 912.615 158.198 905.525 Q158.198 898.415 160.68 894.692 Q163.182 890.949 167.903 890.949 Z\" fill=\"#000000\" fill-rule=\"evenodd\" fill-opacity=\"1\" /><path clip-path=\"url(#clip110)\" d=\"M106.902 107.769 L114.541 107.769 L114.541 81.4031 L106.231 83.0698 L106.231 78.8105 L114.494 77.1439 L119.17 77.1439 L119.17 107.769 L126.809 107.769 L126.809 111.704 L106.902 111.704 L106.902 107.769 Z\" fill=\"#000000\" fill-rule=\"evenodd\" fill-opacity=\"1\" /><path clip-path=\"url(#clip110)\" d=\"M146.253 80.2226 Q142.642 80.2226 140.814 83.7874 Q139.008 87.329 139.008 94.4586 Q139.008 101.565 140.814 105.13 Q142.642 108.671 146.253 108.671 Q149.888 108.671 151.693 105.13 Q153.522 101.565 153.522 94.4586 Q153.522 87.329 151.693 83.7874 Q149.888 80.2226 146.253 80.2226 M146.253 76.5189 Q152.064 76.5189 155.119 81.1253 Q158.198 85.7086 158.198 94.4586 Q158.198 103.185 155.119 107.792 Q152.064 112.375 146.253 112.375 Q140.443 112.375 137.365 107.792 Q134.309 103.185 134.309 94.4586 Q134.309 85.7086 137.365 81.1253 Q140.443 76.5189 146.253 76.5189 Z\" fill=\"#000000\" fill-rule=\"evenodd\" fill-opacity=\"1\" /><path clip-path=\"url(#clip110)\" d=\"M167.903 58.7149 Q164.969 58.7149 163.483 61.6113 Q162.016 64.4889 162.016 70.2817 Q162.016 76.0557 163.483 78.9521 Q164.969 81.8297 167.903 81.8297 Q170.855 81.8297 172.322 78.9521 Q173.808 76.0557 173.808 70.2817 Q173.808 64.4889 172.322 61.6113 Q170.855 58.7149 167.903 58.7149 M167.903 55.7057 Q172.623 55.7057 175.106 59.4484 Q177.607 63.1724 177.607 70.2817 Q177.607 77.3722 175.106 81.115 Q172.623 84.8389 167.903 84.8389 Q163.182 84.8389 160.68 81.115 Q158.198 77.3722 158.198 70.2817 Q158.198 63.1724 160.68 59.4484 Q163.182 55.7057 167.903 55.7057 Z\" fill=\"#000000\" fill-rule=\"evenodd\" fill-opacity=\"1\" /><polyline clip-path=\"url(#clip112)\" style=\"stroke:#009af9; stroke-linecap:butt; stroke-linejoin:round; stroke-width:4; stroke-opacity:1; fill:none\" points=\"\n  2056.77,113.12 2090.41,87.9763 2124.04,87.9763 2157.68,87.9763 2191.31,87.9763 2224.95,87.9763 2258.58,87.9763 2292.21,87.9763 \n  \"/>\n<polyline clip-path=\"url(#clip112)\" style=\"stroke:#e26f46; stroke-linecap:butt; stroke-linejoin:round; stroke-width:4; stroke-opacity:1; fill:none\" points=\"\n  274.149,1405.86 307.784,1445.72 341.418,1445.72 375.053,1405.86 408.687,1387.33 442.321,1358.73 475.956,1335.28 509.59,1309.28 543.225,1284.56 576.859,1259.21 \n  610.494,1234.17 644.128,1208.97 677.762,1183.86 711.397,1158.7 745.031,1133.56 778.666,1108.42 812.3,1083.27 845.934,1058.13 879.569,1032.99 913.203,1007.84 \n  946.838,982.7 980.472,957.557 1014.11,932.414 1047.74,907.27 1081.38,882.127 1115.01,856.984 1148.64,831.841 1182.28,781.554 1215.91,781.554 1249.55,756.411 \n  1283.18,731.267 1316.82,706.124 1350.45,680.981 1384.08,655.837 1417.72,630.694 1451.35,605.551 1484.99,580.407 1518.62,555.264 1552.26,530.121 1585.89,504.977 \n  1619.53,479.834 1653.16,454.691 1686.79,429.547 1720.43,404.404 1754.06,379.261 1787.7,354.117 1821.33,328.974 1854.97,303.831 1888.6,278.687 1922.24,253.544 \n  1955.87,228.401 1989.5,203.257 2023.14,178.114 2056.77,127.828 2090.41,127.828 2124.04,127.828 2157.68,127.828 2191.31,127.828 2224.95,127.828 2258.58,127.828 \n  2292.21,127.828 \n  \"/>\n<path clip-path=\"url(#clip110)\" d=\"\nM2020.6 250.738 L2281.45 250.738 L2281.45 95.2176 L2020.6 95.2176  Z\n  \" fill=\"#ffffff\" fill-rule=\"evenodd\" fill-opacity=\"1\"/>\n<polyline clip-path=\"url(#clip110)\" style=\"stroke:#000000; stroke-linecap:butt; stroke-linejoin:round; stroke-width:4; stroke-opacity:1; fill:none\" points=\"\n  2020.6,250.738 2281.45,250.738 2281.45,95.2176 2020.6,95.2176 2020.6,250.738 \n  \"/>\n<polyline clip-path=\"url(#clip110)\" style=\"stroke:#009af9; stroke-linecap:butt; stroke-linejoin:round; stroke-width:4; stroke-opacity:1; fill:none\" points=\"\n  2044.36,147.058 2186.97,147.058 \n  \"/>\n<path clip-path=\"url(#clip110)\" d=\"M2227.25 128.319 L2227.25 131.861 L2223.17 131.861 Q2220.88 131.861 2219.98 132.787 Q2219.1 133.713 2219.1 136.12 L2219.1 138.412 L2226.11 138.412 L2226.11 141.722 L2219.1 141.722 L2219.1 164.338 L2214.82 164.338 L2214.82 141.722 L2210.74 141.722 L2210.74 138.412 L2214.82 138.412 L2214.82 136.606 Q2214.82 132.278 2216.83 130.31 Q2218.84 128.319 2223.22 128.319 L2227.25 128.319 Z\" fill=\"#000000\" fill-rule=\"evenodd\" fill-opacity=\"1\" /><polyline clip-path=\"url(#clip110)\" style=\"stroke:#e26f46; stroke-linecap:butt; stroke-linejoin:round; stroke-width:4; stroke-opacity:1; fill:none\" points=\"\n  2044.36,198.898 2186.97,198.898 \n  \"/>\n<path clip-path=\"url(#clip110)\" d=\"M2229.66 202.914 Q2229.66 198.284 2227.73 195.738 Q2225.84 193.192 2222.39 193.192 Q2218.96 193.192 2217.04 195.738 Q2215.14 198.284 2215.14 202.914 Q2215.14 207.52 2217.04 210.066 Q2218.96 212.613 2222.39 212.613 Q2225.84 212.613 2227.73 210.066 Q2229.66 207.52 2229.66 202.914 M2233.91 212.96 Q2233.91 219.58 2230.97 222.798 Q2228.03 226.039 2221.97 226.039 Q2219.72 226.039 2217.73 225.691 Q2215.74 225.367 2213.87 224.673 L2213.87 220.529 Q2215.74 221.548 2217.57 222.034 Q2219.4 222.52 2221.3 222.52 Q2225.49 222.52 2227.57 220.321 Q2229.66 218.145 2229.66 213.724 L2229.66 211.617 Q2228.34 213.909 2226.28 215.043 Q2224.22 216.178 2221.34 216.178 Q2216.58 216.178 2213.66 212.543 Q2210.74 208.909 2210.74 202.914 Q2210.74 196.895 2213.66 193.261 Q2216.58 189.627 2221.34 189.627 Q2224.22 189.627 2226.28 190.761 Q2228.34 191.895 2229.66 194.187 L2229.66 190.252 L2233.91 190.252 L2233.91 212.96 Z\" fill=\"#000000\" fill-rule=\"evenodd\" fill-opacity=\"1\" /></svg>\n"
     },
     "execution_count": 7,
     "metadata": {},
     "output_type": "execute_result"
    }
   ],
   "source": [
    "# define analytic first derivatives for comparison\n",
    "fp  = x -> 1 + 2 *x\n",
    "gp = x ->1/3 + 2 *x\n",
    "\n",
    "# computes central difference\n",
    "cdiff(f, x, h) = (f(x+h)-f(x-h))/2h\n",
    "\n",
    "# computes an error\n",
    "centraldifferror(x, h, f, fp) = abs(cdiff(f, x, h) - fp(x))\n",
    "\n",
    "\n",
    "#plotting f and g errors   \n",
    "x = 0.0 # some arbitrary point\n",
    "\n",
    "# helper function to avoid trying to take logs of 0 in plots\n",
    "nanabs(x) = iszero(x) ? NaN : abs(x)\n",
    "\n",
    "# We find the error for the derivative of f is 0 \n",
    "# (until we run into the errors for too small h we discussed in the lecture)\n",
    "f = x -> 1 + x + x^2\n",
    "g = x -> 1 + x/3 + x^2\n",
    "h = 2.0 .^ (0:-1:-60)\n",
    "plot(nanabs.(centraldifferror.(x, h, f, fp)), yaxis=:log10, label=\"f\")\n",
    "plot!(nanabs.(centraldifferror.(x, h, g, gp)), yaxis=:log10, label=\"g\")"
   ]
  },
  {
   "cell_type": "code",
   "execution_count": 20,
   "metadata": {},
   "outputs": [
    {
     "data": {
      "image/png": "[encoded data removed]",
      "image/svg+xml": "<?xml version=\"1.0\" encoding=\"utf-8\"?>\n<svg xmlns=\"http://www.w3.org/2000/svg\" xmlns:xlink=\"http://www.w3.org/1999/xlink\" width=\"600\" height=\"400\" viewBox=\"0 0 2400 1600\">\n<defs>\n  <clipPath id=\"clip970\">\n    <rect x=\"0\" y=\"0\" width=\"2400\" height=\"1600\"/>\n  </clipPath>\n</defs>\n<path clip-path=\"url(#clip970)\" d=\"\nM0 1600 L2400 1600 L2400 0 L0 0  Z\n  \" fill=\"#ffffff\" fill-rule=\"evenodd\" fill-opacity=\"1\"/>\n<defs>\n  <clipPath id=\"clip971\">\n    <rect x=\"480\" y=\"0\" width=\"1681\" height=\"1600\"/>\n  </clipPath>\n</defs>\n<path clip-path=\"url(#clip970)\" d=\"\nM213.607 1486.45 L2352.76 1486.45 L2352.76 47.2441 L213.607 47.2441  Z\n  \" fill=\"#ffffff\" fill-rule=\"evenodd\" fill-opacity=\"1\"/>\n<defs>\n  <clipPath id=\"clip972\">\n    <rect x=\"213\" y=\"47\" width=\"2140\" height=\"1440\"/>\n  </clipPath>\n</defs>\n<polyline clip-path=\"url(#clip972)\" style=\"stroke:#000000; stroke-linecap:butt; stroke-linejoin:round; stroke-width:2; stroke-opacity:0.1; fill:none\" points=\"\n  526.407,1486.45 526.407,47.2441 \n  \"/>\n<polyline clip-path=\"url(#clip972)\" style=\"stroke:#000000; stroke-linecap:butt; stroke-linejoin:round; stroke-width:2; stroke-opacity:0.1; fill:none\" points=\"\n  904.795,1486.45 904.795,47.2441 \n  \"/>\n<polyline clip-path=\"url(#clip972)\" style=\"stroke:#000000; stroke-linecap:butt; stroke-linejoin:round; stroke-width:2; stroke-opacity:0.1; fill:none\" points=\"\n  1283.18,1486.45 1283.18,47.2441 \n  \"/>\n<polyline clip-path=\"url(#clip972)\" style=\"stroke:#000000; stroke-linecap:butt; stroke-linejoin:round; stroke-width:2; stroke-opacity:0.1; fill:none\" points=\"\n  1661.57,1486.45 1661.57,47.2441 \n  \"/>\n<polyline clip-path=\"url(#clip972)\" style=\"stroke:#000000; stroke-linecap:butt; stroke-linejoin:round; stroke-width:2; stroke-opacity:0.1; fill:none\" points=\"\n  2039.96,1486.45 2039.96,47.2441 \n  \"/>\n<polyline clip-path=\"url(#clip970)\" style=\"stroke:#000000; stroke-linecap:butt; stroke-linejoin:round; stroke-width:4; stroke-opacity:1; fill:none\" points=\"\n  213.607,1486.45 2352.76,1486.45 \n  \"/>\n<polyline clip-path=\"url(#clip970)\" style=\"stroke:#000000; stroke-linecap:butt; stroke-linejoin:round; stroke-width:4; stroke-opacity:1; fill:none\" points=\"\n  526.407,1486.45 526.407,1467.55 \n  \"/>\n<polyline clip-path=\"url(#clip970)\" style=\"stroke:#000000; stroke-linecap:butt; stroke-linejoin:round; stroke-width:4; stroke-opacity:1; fill:none\" points=\"\n  904.795,1486.45 904.795,1467.55 \n  \"/>\n<polyline clip-path=\"url(#clip970)\" style=\"stroke:#000000; stroke-linecap:butt; stroke-linejoin:round; stroke-width:4; stroke-opacity:1; fill:none\" points=\"\n  1283.18,1486.45 1283.18,1467.55 \n  \"/>\n<polyline clip-path=\"url(#clip970)\" style=\"stroke:#000000; stroke-linecap:butt; stroke-linejoin:round; stroke-width:4; stroke-opacity:1; fill:none\" points=\"\n  1661.57,1486.45 1661.57,1467.55 \n  \"/>\n<polyline clip-path=\"url(#clip970)\" style=\"stroke:#000000; stroke-linecap:butt; stroke-linejoin:round; stroke-width:4; stroke-opacity:1; fill:none\" points=\"\n  2039.96,1486.45 2039.96,1467.55 \n  \"/>\n<path clip-path=\"url(#clip970)\" d=\"M530.655 1530.21 Q534.012 1530.93 535.887 1533.2 Q537.785 1535.47 537.785 1538.8 Q537.785 1543.92 534.266 1546.72 Q530.748 1549.52 524.266 1549.52 Q522.09 1549.52 519.776 1549.08 Q517.484 1548.66 515.03 1547.81 L515.03 1543.29 Q516.975 1544.43 519.289 1545.01 Q521.604 1545.58 524.127 1545.58 Q528.526 1545.58 530.817 1543.85 Q533.132 1542.11 533.132 1538.8 Q533.132 1535.75 530.979 1534.03 Q528.85 1532.3 525.03 1532.3 L521.002 1532.3 L521.002 1528.45 L525.215 1528.45 Q528.664 1528.45 530.493 1527.09 Q532.322 1525.7 532.322 1523.11 Q532.322 1520.45 530.424 1519.03 Q528.549 1517.6 525.03 1517.6 Q523.109 1517.6 520.91 1518.01 Q518.711 1518.43 516.072 1519.31 L516.072 1515.14 Q518.734 1514.4 521.049 1514.03 Q523.387 1513.66 525.447 1513.66 Q530.771 1513.66 533.873 1516.09 Q536.975 1518.5 536.975 1522.62 Q536.975 1525.49 535.331 1527.48 Q533.688 1529.45 530.655 1530.21 Z\" fill=\"#000000\" fill-rule=\"evenodd\" fill-opacity=\"1\" /><path clip-path=\"url(#clip970)\" d=\"M905.2 1529.7 Q902.052 1529.7 900.2 1531.86 Q898.371 1534.01 898.371 1537.76 Q898.371 1541.49 900.2 1543.66 Q902.052 1545.82 905.2 1545.82 Q908.348 1545.82 910.177 1543.66 Q912.028 1541.49 912.028 1537.76 Q912.028 1534.01 910.177 1531.86 Q908.348 1529.7 905.2 1529.7 M914.482 1515.05 L914.482 1519.31 Q912.723 1518.48 910.917 1518.04 Q909.135 1517.6 907.376 1517.6 Q902.746 1517.6 900.292 1520.72 Q897.862 1523.85 897.515 1530.17 Q898.88 1528.15 900.94 1527.09 Q903.001 1526 905.477 1526 Q910.686 1526 913.695 1529.17 Q916.727 1532.32 916.727 1537.76 Q916.727 1543.08 913.579 1546.3 Q910.431 1549.52 905.2 1549.52 Q899.204 1549.52 896.033 1544.94 Q892.862 1540.33 892.862 1531.6 Q892.862 1523.41 896.751 1518.55 Q900.64 1513.66 907.19 1513.66 Q908.95 1513.66 910.732 1514.01 Q912.538 1514.36 914.482 1515.05 Z\" fill=\"#000000\" fill-rule=\"evenodd\" fill-opacity=\"1\" /><path clip-path=\"url(#clip970)\" d=\"M1273.48 1548.13 L1273.48 1543.87 Q1275.24 1544.7 1277.05 1545.14 Q1278.85 1545.58 1280.59 1545.58 Q1285.22 1545.58 1287.65 1542.48 Q1290.1 1539.36 1290.45 1533.01 Q1289.11 1535.01 1287.05 1536.07 Q1284.99 1537.13 1282.49 1537.13 Q1277.3 1537.13 1274.27 1534.01 Q1271.26 1530.86 1271.26 1525.42 Q1271.26 1520.1 1274.41 1516.88 Q1277.56 1513.66 1282.79 1513.66 Q1288.78 1513.66 1291.93 1518.27 Q1295.1 1522.85 1295.1 1531.6 Q1295.1 1539.77 1291.21 1544.66 Q1287.35 1549.52 1280.8 1549.52 Q1279.04 1549.52 1277.23 1549.17 Q1275.43 1548.82 1273.48 1548.13 M1282.79 1533.48 Q1285.94 1533.48 1287.77 1531.32 Q1289.62 1529.17 1289.62 1525.42 Q1289.62 1521.7 1287.77 1519.54 Q1285.94 1517.37 1282.79 1517.37 Q1279.64 1517.37 1277.79 1519.54 Q1275.96 1521.7 1275.96 1525.42 Q1275.96 1529.17 1277.79 1531.32 Q1279.64 1533.48 1282.79 1533.48 Z\" fill=\"#000000\" fill-rule=\"evenodd\" fill-opacity=\"1\" /><path clip-path=\"url(#clip970)\" d=\"M1637.06 1544.91 L1644.69 1544.91 L1644.69 1518.55 L1636.38 1520.21 L1636.38 1515.95 L1644.65 1514.29 L1649.32 1514.29 L1649.32 1544.91 L1656.96 1544.91 L1656.96 1548.85 L1637.06 1548.85 L1637.06 1544.91 Z\" fill=\"#000000\" fill-rule=\"evenodd\" fill-opacity=\"1\" /><path clip-path=\"url(#clip970)\" d=\"M1670.43 1544.91 L1686.75 1544.91 L1686.75 1548.85 L1664.81 1548.85 L1664.81 1544.91 Q1667.47 1542.16 1672.05 1537.53 Q1676.66 1532.88 1677.84 1531.53 Q1680.09 1529.01 1680.97 1527.27 Q1681.87 1525.51 1681.87 1523.82 Q1681.87 1521.07 1679.93 1519.33 Q1678 1517.6 1674.9 1517.6 Q1672.7 1517.6 1670.25 1518.36 Q1667.82 1519.13 1665.04 1520.68 L1665.04 1515.95 Q1667.87 1514.82 1670.32 1514.24 Q1672.77 1513.66 1674.81 1513.66 Q1680.18 1513.66 1683.37 1516.35 Q1686.57 1519.03 1686.57 1523.52 Q1686.57 1525.65 1685.76 1527.57 Q1684.97 1529.47 1682.86 1532.07 Q1682.29 1532.74 1679.18 1535.95 Q1676.08 1539.15 1670.43 1544.91 Z\" fill=\"#000000\" fill-rule=\"evenodd\" fill-opacity=\"1\" /><path clip-path=\"url(#clip970)\" d=\"M2015.14 1544.91 L2022.78 1544.91 L2022.78 1518.55 L2014.47 1520.21 L2014.47 1515.95 L2022.73 1514.29 L2027.41 1514.29 L2027.41 1544.91 L2035.05 1544.91 L2035.05 1548.85 L2015.14 1548.85 L2015.14 1544.91 Z\" fill=\"#000000\" fill-rule=\"evenodd\" fill-opacity=\"1\" /><path clip-path=\"url(#clip970)\" d=\"M2044.54 1514.29 L2062.9 1514.29 L2062.9 1518.22 L2048.82 1518.22 L2048.82 1526.7 Q2049.84 1526.35 2050.86 1526.19 Q2051.88 1526 2052.9 1526 Q2058.68 1526 2062.06 1529.17 Q2065.44 1532.34 2065.44 1537.76 Q2065.44 1543.34 2061.97 1546.44 Q2058.5 1549.52 2052.18 1549.52 Q2050 1549.52 2047.73 1549.15 Q2045.49 1548.78 2043.08 1548.04 L2043.08 1543.34 Q2045.16 1544.47 2047.39 1545.03 Q2049.61 1545.58 2052.09 1545.58 Q2056.09 1545.58 2058.43 1543.48 Q2060.77 1541.37 2060.77 1537.76 Q2060.77 1534.15 2058.43 1532.04 Q2056.09 1529.94 2052.09 1529.94 Q2050.21 1529.94 2048.34 1530.35 Q2046.48 1530.77 2044.54 1531.65 L2044.54 1514.29 Z\" fill=\"#000000\" fill-rule=\"evenodd\" fill-opacity=\"1\" /><polyline clip-path=\"url(#clip972)\" style=\"stroke:#000000; stroke-linecap:butt; stroke-linejoin:round; stroke-width:2; stroke-opacity:0.1; fill:none\" points=\"\n  213.607,937.138 2352.76,937.138 \n  \"/>\n<polyline clip-path=\"url(#clip972)\" style=\"stroke:#000000; stroke-linecap:butt; stroke-linejoin:round; stroke-width:2; stroke-opacity:0.1; fill:none\" points=\"\n  213.607,57.0182 2352.76,57.0182 \n  \"/>\n<polyline clip-path=\"url(#clip970)\" style=\"stroke:#000000; stroke-linecap:butt; stroke-linejoin:round; stroke-width:4; stroke-opacity:1; fill:none\" points=\"\n  213.607,1486.45 213.607,47.2441 \n  \"/>\n<polyline clip-path=\"url(#clip970)\" style=\"stroke:#000000; stroke-linecap:butt; stroke-linejoin:round; stroke-width:4; stroke-opacity:1; fill:none\" points=\"\n  213.607,937.138 232.505,937.138 \n  \"/>\n<polyline clip-path=\"url(#clip970)\" style=\"stroke:#000000; stroke-linecap:butt; stroke-linejoin:round; stroke-width:4; stroke-opacity:1; fill:none\" points=\"\n  213.607,57.0182 232.505,57.0182 \n  \"/>\n<path clip-path=\"url(#clip970)\" d=\"M51.6634 956.931 L59.3023 956.931 L59.3023 930.565 L50.9921 932.232 L50.9921 927.973 L59.256 926.306 L63.9319 926.306 L63.9319 956.931 L71.5707 956.931 L71.5707 960.866 L51.6634 960.866 L51.6634 956.931 Z\" fill=\"#000000\" fill-rule=\"evenodd\" fill-opacity=\"1\" /><path clip-path=\"url(#clip970)\" d=\"M91.0151 929.385 Q87.404 929.385 85.5753 932.949 Q83.7697 936.491 83.7697 943.621 Q83.7697 950.727 85.5753 954.292 Q87.404 957.834 91.0151 957.834 Q94.6493 957.834 96.4548 954.292 Q98.2835 950.727 98.2835 943.621 Q98.2835 936.491 96.4548 932.949 Q94.6493 929.385 91.0151 929.385 M91.0151 925.681 Q96.8252 925.681 99.8808 930.287 Q102.959 934.871 102.959 943.621 Q102.959 952.347 99.8808 956.954 Q96.8252 961.537 91.0151 961.537 Q85.2049 961.537 82.1262 956.954 Q79.0707 952.347 79.0707 943.621 Q79.0707 934.871 82.1262 930.287 Q85.2049 925.681 91.0151 925.681 Z\" fill=\"#000000\" fill-rule=\"evenodd\" fill-opacity=\"1\" /><path clip-path=\"url(#clip970)\" d=\"M102.959 919.782 L127.071 919.782 L127.071 922.98 L102.959 922.98 L102.959 919.782 Z\" fill=\"#000000\" fill-rule=\"evenodd\" fill-opacity=\"1\" /><path clip-path=\"url(#clip970)\" d=\"M135.929 930.258 L142.136 930.258 L142.136 908.836 L135.384 910.19 L135.384 906.73 L142.098 905.376 L145.898 905.376 L145.898 930.258 L152.104 930.258 L152.104 933.456 L135.929 933.456 L135.929 930.258 Z\" fill=\"#000000\" fill-rule=\"evenodd\" fill-opacity=\"1\" /><path clip-path=\"url(#clip970)\" d=\"M167.903 907.877 Q164.969 907.877 163.483 910.773 Q162.016 913.651 162.016 919.444 Q162.016 925.218 163.483 928.114 Q164.969 930.992 167.903 930.992 Q170.855 930.992 172.322 928.114 Q173.808 925.218 173.808 919.444 Q173.808 913.651 172.322 910.773 Q170.855 907.877 167.903 907.877 M167.903 904.868 Q172.623 904.868 175.106 908.61 Q177.607 912.334 177.607 919.444 Q177.607 926.534 175.106 930.277 Q172.623 934.001 167.903 934.001 Q163.182 934.001 160.68 930.277 Q158.198 926.534 158.198 919.444 Q158.198 912.334 160.68 908.61 Q163.182 904.868 167.903 904.868 Z\" fill=\"#000000\" fill-rule=\"evenodd\" fill-opacity=\"1\" /><path clip-path=\"url(#clip970)\" d=\"M106.902 76.8106 L114.541 76.8106 L114.541 50.445 L106.231 52.1116 L106.231 47.8524 L114.494 46.1858 L119.17 46.1858 L119.17 76.8106 L126.809 76.8106 L126.809 80.7458 L106.902 80.7458 L106.902 76.8106 Z\" fill=\"#000000\" fill-rule=\"evenodd\" fill-opacity=\"1\" /><path clip-path=\"url(#clip970)\" d=\"M146.253 49.2644 Q142.642 49.2644 140.814 52.8292 Q139.008 56.3709 139.008 63.5005 Q139.008 70.6069 140.814 74.1717 Q142.642 77.7134 146.253 77.7134 Q149.888 77.7134 151.693 74.1717 Q153.522 70.6069 153.522 63.5005 Q153.522 56.3709 151.693 52.8292 Q149.888 49.2644 146.253 49.2644 M146.253 45.5608 Q152.064 45.5608 155.119 50.1672 Q158.198 54.7505 158.198 63.5005 Q158.198 72.2273 155.119 76.8337 Q152.064 81.417 146.253 81.417 Q140.443 81.417 137.365 76.8337 Q134.309 72.2273 134.309 63.5005 Q134.309 54.7505 137.365 50.1672 Q140.443 45.5608 146.253 45.5608 Z\" fill=\"#000000\" fill-rule=\"evenodd\" fill-opacity=\"1\" /><path clip-path=\"url(#clip970)\" d=\"M167.903 27.7568 Q164.969 27.7568 163.483 30.6532 Q162.016 33.5308 162.016 39.3236 Q162.016 45.0975 163.483 47.9939 Q164.969 50.8715 167.903 50.8715 Q170.855 50.8715 172.322 47.9939 Q173.808 45.0975 173.808 39.3236 Q173.808 33.5308 172.322 30.6532 Q170.855 27.7568 167.903 27.7568 M167.903 24.7475 Q172.623 24.7475 175.106 28.4903 Q177.607 32.2142 177.607 39.3236 Q177.607 46.4141 175.106 50.1568 Q172.623 53.8808 167.903 53.8808 Q163.182 53.8808 160.68 50.1568 Q158.198 46.4141 158.198 39.3236 Q158.198 32.2142 160.68 28.4903 Q163.182 24.7475 167.903 24.7475 Z\" fill=\"#000000\" fill-rule=\"evenodd\" fill-opacity=\"1\" /><polyline clip-path=\"url(#clip972)\" style=\"stroke:#009af9; stroke-linecap:butt; stroke-linejoin:round; stroke-width:4; stroke-opacity:1; fill:none\" points=\"\n  400.278,1434.72 526.407,1381.73 652.537,1197.48 778.666,1128.74 904.795,1113.16 1030.92,984.777 1157.05,984.777 1283.18,780.149 1409.31,722.826 1535.44,680.344 \n  1661.57,680.344 1787.7,450.994 1913.83,374.945 2039.96,329.618 2166.08,168.082 2292.21,87.9763 \n  \"/>\n<polyline clip-path=\"url(#clip972)\" style=\"stroke:#e26f46; stroke-linecap:butt; stroke-linejoin:round; stroke-width:4; stroke-opacity:1; fill:none\" points=\"\n  274.149,1445.72 400.278,1403.72 526.407,1347.68 652.537,1204.28 778.666,1133.21 904.795,1083.31 1030.92,936.343 1157.05,886.145 1283.18,915.65 1409.31,722.337 \n  1535.44,722.337 1661.57,722.337 1787.7,440.117 1913.83,371.61 2039.96,371.61 2166.08,167.712 2292.21,99.0106 \n  \"/>\n<path clip-path=\"url(#clip970)\" d=\"\nM1991.34 250.738 L2281.45 250.738 L2281.45 95.2176 L1991.34 95.2176  Z\n  \" fill=\"#ffffff\" fill-rule=\"evenodd\" fill-opacity=\"1\"/>\n<polyline clip-path=\"url(#clip970)\" style=\"stroke:#000000; stroke-linecap:butt; stroke-linejoin:round; stroke-width:4; stroke-opacity:1; fill:none\" points=\"\n  1991.34,250.738 2281.45,250.738 2281.45,95.2176 1991.34,95.2176 1991.34,250.738 \n  \"/>\n<polyline clip-path=\"url(#clip970)\" style=\"stroke:#009af9; stroke-linecap:butt; stroke-linejoin:round; stroke-width:4; stroke-opacity:1; fill:none\" points=\"\n  2015.11,147.058 2157.72,147.058 \n  \"/>\n<path clip-path=\"url(#clip970)\" d=\"M2195.33 166.745 Q2193.52 171.375 2191.81 172.787 Q2190.1 174.199 2187.22 174.199 L2183.82 174.199 L2183.82 170.634 L2186.32 170.634 Q2188.08 170.634 2189.05 169.8 Q2190.03 168.967 2191.21 165.865 L2191.97 163.921 L2181.48 138.412 L2186 138.412 L2194.1 158.689 L2202.2 138.412 L2206.72 138.412 L2195.33 166.745 Z\" fill=\"#000000\" fill-rule=\"evenodd\" fill-opacity=\"1\" /><path clip-path=\"url(#clip970)\" d=\"M2214.01 160.402 L2221.65 160.402 L2221.65 134.037 L2213.34 135.703 L2213.34 131.444 L2221.6 129.778 L2226.28 129.778 L2226.28 160.402 L2233.91 160.402 L2233.91 164.338 L2214.01 164.338 L2214.01 160.402 Z\" fill=\"#000000\" fill-rule=\"evenodd\" fill-opacity=\"1\" /><polyline clip-path=\"url(#clip970)\" style=\"stroke:#e26f46; stroke-linecap:butt; stroke-linejoin:round; stroke-width:4; stroke-opacity:1; fill:none\" points=\"\n  2015.11,198.898 2157.72,198.898 \n  \"/>\n<path clip-path=\"url(#clip970)\" d=\"M2195.33 218.585 Q2193.52 223.215 2191.81 224.627 Q2190.1 226.039 2187.22 226.039 L2183.82 226.039 L2183.82 222.474 L2186.32 222.474 Q2188.08 222.474 2189.05 221.64 Q2190.03 220.807 2191.21 217.705 L2191.97 215.761 L2181.48 190.252 L2186 190.252 L2194.1 210.529 L2202.2 190.252 L2206.72 190.252 L2195.33 218.585 Z\" fill=\"#000000\" fill-rule=\"evenodd\" fill-opacity=\"1\" /><path clip-path=\"url(#clip970)\" d=\"M2217.22 212.242 L2233.54 212.242 L2233.54 216.178 L2211.6 216.178 L2211.6 212.242 Q2214.26 209.488 2218.84 204.858 Q2223.45 200.205 2224.63 198.863 Q2226.88 196.34 2227.76 194.604 Q2228.66 192.844 2228.66 191.155 Q2228.66 188.4 2226.72 186.664 Q2224.79 184.928 2221.69 184.928 Q2219.49 184.928 2217.04 185.692 Q2214.61 186.455 2211.83 188.006 L2211.83 183.284 Q2214.66 182.15 2217.11 181.571 Q2219.56 180.993 2221.6 180.993 Q2226.97 180.993 2230.16 183.678 Q2233.36 186.363 2233.36 190.854 Q2233.36 192.983 2232.55 194.905 Q2231.76 196.803 2229.66 199.395 Q2229.08 200.067 2225.97 203.284 Q2222.87 206.479 2217.22 212.242 Z\" fill=\"#000000\" fill-rule=\"evenodd\" fill-opacity=\"1\" /></svg>\n",
      "text/html": [
       "<?xml version=\"1.0\" encoding=\"utf-8\"?>\n",
       "<svg xmlns=\"http://www.w3.org/2000/svg\" xmlns:xlink=\"http://www.w3.org/1999/xlink\" width=\"600\" height=\"400\" viewBox=\"0 0 2400 1600\">\n",
       "<defs>\n",
       "  <clipPath id=\"clip020\">\n",
       "    <rect x=\"0\" y=\"0\" width=\"2400\" height=\"1600\"/>\n",
       "  </clipPath>\n",
       "</defs>\n",
       "<path clip-path=\"url(#clip020)\" d=\"\n",
       "M0 1600 L2400 1600 L2400 0 L0 0  Z\n",
       "  \" fill=\"#ffffff\" fill-rule=\"evenodd\" fill-opacity=\"1\"/>\n",
       "<defs>\n",
       "  <clipPath id=\"clip021\">\n",
       "    <rect x=\"480\" y=\"0\" width=\"1681\" height=\"1600\"/>\n",
       "  </clipPath>\n",
       "</defs>\n",
       "<path clip-path=\"url(#clip020)\" d=\"\n",
       "M213.607 1486.45 L2352.76 1486.45 L2352.76 47.2441 L213.607 47.2441  Z\n",
       "  \" fill=\"#ffffff\" fill-rule=\"evenodd\" fill-opacity=\"1\"/>\n",
       "<defs>\n",
       "  <clipPath id=\"clip022\">\n",
       "    <rect x=\"213\" y=\"47\" width=\"2140\" height=\"1440\"/>\n",
       "  </clipPath>\n",
       "</defs>\n",
       "<polyline clip-path=\"url(#clip022)\" style=\"stroke:#000000; stroke-linecap:butt; stroke-linejoin:round; stroke-width:2; stroke-opacity:0.1; fill:none\" points=\"\n",
       "  526.407,1486.45 526.407,47.2441 \n",
       "  \"/>\n",
       "<polyline clip-path=\"url(#clip022)\" style=\"stroke:#000000; stroke-linecap:butt; stroke-linejoin:round; stroke-width:2; stroke-opacity:0.1; fill:none\" points=\"\n",
       "  904.795,1486.45 904.795,47.2441 \n",
       "  \"/>\n",
       "<polyline clip-path=\"url(#clip022)\" style=\"stroke:#000000; stroke-linecap:butt; stroke-linejoin:round; stroke-width:2; stroke-opacity:0.1; fill:none\" points=\"\n",
       "  1283.18,1486.45 1283.18,47.2441 \n",
       "  \"/>\n",
       "<polyline clip-path=\"url(#clip022)\" style=\"stroke:#000000; stroke-linecap:butt; stroke-linejoin:round; stroke-width:2; stroke-opacity:0.1; fill:none\" points=\"\n",
       "  1661.57,1486.45 1661.57,47.2441 \n",
       "  \"/>\n",
       "<polyline clip-path=\"url(#clip022)\" style=\"stroke:#000000; stroke-linecap:butt; stroke-linejoin:round; stroke-width:2; stroke-opacity:0.1; fill:none\" points=\"\n",
       "  2039.96,1486.45 2039.96,47.2441 \n",
       "  \"/>\n",
       "<polyline clip-path=\"url(#clip020)\" style=\"stroke:#000000; stroke-linecap:butt; stroke-linejoin:round; stroke-width:4; stroke-opacity:1; fill:none\" points=\"\n",
       "  213.607,1486.45 2352.76,1486.45 \n",
       "  \"/>\n",
       "<polyline clip-path=\"url(#clip020)\" style=\"stroke:#000000; stroke-linecap:butt; stroke-linejoin:round; stroke-width:4; stroke-opacity:1; fill:none\" points=\"\n",
       "  526.407,1486.45 526.407,1467.55 \n",
       "  \"/>\n",
       "<polyline clip-path=\"url(#clip020)\" style=\"stroke:#000000; stroke-linecap:butt; stroke-linejoin:round; stroke-width:4; stroke-opacity:1; fill:none\" points=\"\n",
       "  904.795,1486.45 904.795,1467.55 \n",
       "  \"/>\n",
       "<polyline clip-path=\"url(#clip020)\" style=\"stroke:#000000; stroke-linecap:butt; stroke-linejoin:round; stroke-width:4; stroke-opacity:1; fill:none\" points=\"\n",
       "  1283.18,1486.45 1283.18,1467.55 \n",
       "  \"/>\n",
       "<polyline clip-path=\"url(#clip020)\" style=\"stroke:#000000; stroke-linecap:butt; stroke-linejoin:round; stroke-width:4; stroke-opacity:1; fill:none\" points=\"\n",
       "  1661.57,1486.45 1661.57,1467.55 \n",
       "  \"/>\n",
       "<polyline clip-path=\"url(#clip020)\" style=\"stroke:#000000; stroke-linecap:butt; stroke-linejoin:round; stroke-width:4; stroke-opacity:1; fill:none\" points=\"\n",
       "  2039.96,1486.45 2039.96,1467.55 \n",
       "  \"/>\n",
       "<path clip-path=\"url(#clip020)\" d=\"M530.655 1530.21 Q534.012 1530.93 535.887 1533.2 Q537.785 1535.47 537.785 1538.8 Q537.785 1543.92 534.266 1546.72 Q530.748 1549.52 524.266 1549.52 Q522.09 1549.52 519.776 1549.08 Q517.484 1548.66 515.03 1547.81 L515.03 1543.29 Q516.975 1544.43 519.289 1545.01 Q521.604 1545.58 524.127 1545.58 Q528.526 1545.58 530.817 1543.85 Q533.132 1542.11 533.132 1538.8 Q533.132 1535.75 530.979 1534.03 Q528.85 1532.3 525.03 1532.3 L521.002 1532.3 L521.002 1528.45 L525.215 1528.45 Q528.664 1528.45 530.493 1527.09 Q532.322 1525.7 532.322 1523.11 Q532.322 1520.45 530.424 1519.03 Q528.549 1517.6 525.03 1517.6 Q523.109 1517.6 520.91 1518.01 Q518.711 1518.43 516.072 1519.31 L516.072 1515.14 Q518.734 1514.4 521.049 1514.03 Q523.387 1513.66 525.447 1513.66 Q530.771 1513.66 533.873 1516.09 Q536.975 1518.5 536.975 1522.62 Q536.975 1525.49 535.331 1527.48 Q533.688 1529.45 530.655 1530.21 Z\" fill=\"#000000\" fill-rule=\"evenodd\" fill-opacity=\"1\" /><path clip-path=\"url(#clip020)\" d=\"M905.2 1529.7 Q902.052 1529.7 900.2 1531.86 Q898.371 1534.01 898.371 1537.76 Q898.371 1541.49 900.2 1543.66 Q902.052 1545.82 905.2 1545.82 Q908.348 1545.82 910.177 1543.66 Q912.028 1541.49 912.028 1537.76 Q912.028 1534.01 910.177 1531.86 Q908.348 1529.7 905.2 1529.7 M914.482 1515.05 L914.482 1519.31 Q912.723 1518.48 910.917 1518.04 Q909.135 1517.6 907.376 1517.6 Q902.746 1517.6 900.292 1520.72 Q897.862 1523.85 897.515 1530.17 Q898.88 1528.15 900.94 1527.09 Q903.001 1526 905.477 1526 Q910.686 1526 913.695 1529.17 Q916.727 1532.32 916.727 1537.76 Q916.727 1543.08 913.579 1546.3 Q910.431 1549.52 905.2 1549.52 Q899.204 1549.52 896.033 1544.94 Q892.862 1540.33 892.862 1531.6 Q892.862 1523.41 896.751 1518.55 Q900.64 1513.66 907.19 1513.66 Q908.95 1513.66 910.732 1514.01 Q912.538 1514.36 914.482 1515.05 Z\" fill=\"#000000\" fill-rule=\"evenodd\" fill-opacity=\"1\" /><path clip-path=\"url(#clip020)\" d=\"M1273.48 1548.13 L1273.48 1543.87 Q1275.24 1544.7 1277.05 1545.14 Q1278.85 1545.58 1280.59 1545.58 Q1285.22 1545.58 1287.65 1542.48 Q1290.1 1539.36 1290.45 1533.01 Q1289.11 1535.01 1287.05 1536.07 Q1284.99 1537.13 1282.49 1537.13 Q1277.3 1537.13 1274.27 1534.01 Q1271.26 1530.86 1271.26 1525.42 Q1271.26 1520.1 1274.41 1516.88 Q1277.56 1513.66 1282.79 1513.66 Q1288.78 1513.66 1291.93 1518.27 Q1295.1 1522.85 1295.1 1531.6 Q1295.1 1539.77 1291.21 1544.66 Q1287.35 1549.52 1280.8 1549.52 Q1279.04 1549.52 1277.23 1549.17 Q1275.43 1548.82 1273.48 1548.13 M1282.79 1533.48 Q1285.94 1533.48 1287.77 1531.32 Q1289.62 1529.17 1289.62 1525.42 Q1289.62 1521.7 1287.77 1519.54 Q1285.94 1517.37 1282.79 1517.37 Q1279.64 1517.37 1277.79 1519.54 Q1275.96 1521.7 1275.96 1525.42 Q1275.96 1529.17 1277.79 1531.32 Q1279.64 1533.48 1282.79 1533.48 Z\" fill=\"#000000\" fill-rule=\"evenodd\" fill-opacity=\"1\" /><path clip-path=\"url(#clip020)\" d=\"M1637.06 1544.91 L1644.69 1544.91 L1644.69 1518.55 L1636.38 1520.21 L1636.38 1515.95 L1644.65 1514.29 L1649.32 1514.29 L1649.32 1544.91 L1656.96 1544.91 L1656.96 1548.85 L1637.06 1548.85 L1637.06 1544.91 Z\" fill=\"#000000\" fill-rule=\"evenodd\" fill-opacity=\"1\" /><path clip-path=\"url(#clip020)\" d=\"M1670.43 1544.91 L1686.75 1544.91 L1686.75 1548.85 L1664.81 1548.85 L1664.81 1544.91 Q1667.47 1542.16 1672.05 1537.53 Q1676.66 1532.88 1677.84 1531.53 Q1680.09 1529.01 1680.97 1527.27 Q1681.87 1525.51 1681.87 1523.82 Q1681.87 1521.07 1679.93 1519.33 Q1678 1517.6 1674.9 1517.6 Q1672.7 1517.6 1670.25 1518.36 Q1667.82 1519.13 1665.04 1520.68 L1665.04 1515.95 Q1667.87 1514.82 1670.32 1514.24 Q1672.77 1513.66 1674.81 1513.66 Q1680.18 1513.66 1683.37 1516.35 Q1686.57 1519.03 1686.57 1523.52 Q1686.57 1525.65 1685.76 1527.57 Q1684.97 1529.47 1682.86 1532.07 Q1682.29 1532.74 1679.18 1535.95 Q1676.08 1539.15 1670.43 1544.91 Z\" fill=\"#000000\" fill-rule=\"evenodd\" fill-opacity=\"1\" /><path clip-path=\"url(#clip020)\" d=\"M2015.14 1544.91 L2022.78 1544.91 L2022.78 1518.55 L2014.47 1520.21 L2014.47 1515.95 L2022.73 1514.29 L2027.41 1514.29 L2027.41 1544.91 L2035.05 1544.91 L2035.05 1548.85 L2015.14 1548.85 L2015.14 1544.91 Z\" fill=\"#000000\" fill-rule=\"evenodd\" fill-opacity=\"1\" /><path clip-path=\"url(#clip020)\" d=\"M2044.54 1514.29 L2062.9 1514.29 L2062.9 1518.22 L2048.82 1518.22 L2048.82 1526.7 Q2049.84 1526.35 2050.86 1526.19 Q2051.88 1526 2052.9 1526 Q2058.68 1526 2062.06 1529.17 Q2065.44 1532.34 2065.44 1537.76 Q2065.44 1543.34 2061.97 1546.44 Q2058.5 1549.52 2052.18 1549.52 Q2050 1549.52 2047.73 1549.15 Q2045.49 1548.78 2043.08 1548.04 L2043.08 1543.34 Q2045.16 1544.47 2047.39 1545.03 Q2049.61 1545.58 2052.09 1545.58 Q2056.09 1545.58 2058.43 1543.48 Q2060.77 1541.37 2060.77 1537.76 Q2060.77 1534.15 2058.43 1532.04 Q2056.09 1529.94 2052.09 1529.94 Q2050.21 1529.94 2048.34 1530.35 Q2046.48 1530.77 2044.54 1531.65 L2044.54 1514.29 Z\" fill=\"#000000\" fill-rule=\"evenodd\" fill-opacity=\"1\" /><polyline clip-path=\"url(#clip022)\" style=\"stroke:#000000; stroke-linecap:butt; stroke-linejoin:round; stroke-width:2; stroke-opacity:0.1; fill:none\" points=\"\n",
       "  213.607,937.138 2352.76,937.138 \n",
       "  \"/>\n",
       "<polyline clip-path=\"url(#clip022)\" style=\"stroke:#000000; stroke-linecap:butt; stroke-linejoin:round; stroke-width:2; stroke-opacity:0.1; fill:none\" points=\"\n",
       "  213.607,57.0182 2352.76,57.0182 \n",
       "  \"/>\n",
       "<polyline clip-path=\"url(#clip020)\" style=\"stroke:#000000; stroke-linecap:butt; stroke-linejoin:round; stroke-width:4; stroke-opacity:1; fill:none\" points=\"\n",
       "  213.607,1486.45 213.607,47.2441 \n",
       "  \"/>\n",
       "<polyline clip-path=\"url(#clip020)\" style=\"stroke:#000000; stroke-linecap:butt; stroke-linejoin:round; stroke-width:4; stroke-opacity:1; fill:none\" points=\"\n",
       "  213.607,937.138 232.505,937.138 \n",
       "  \"/>\n",
       "<polyline clip-path=\"url(#clip020)\" style=\"stroke:#000000; stroke-linecap:butt; stroke-linejoin:round; stroke-width:4; stroke-opacity:1; fill:none\" points=\"\n",
       "  213.607,57.0182 232.505,57.0182 \n",
       "  \"/>\n",
       "<path clip-path=\"url(#clip020)\" d=\"M51.6634 956.931 L59.3023 956.931 L59.3023 930.565 L50.9921 932.232 L50.9921 927.973 L59.256 926.306 L63.9319 926.306 L63.9319 956.931 L71.5707 956.931 L71.5707 960.866 L51.6634 960.866 L51.6634 956.931 Z\" fill=\"#000000\" fill-rule=\"evenodd\" fill-opacity=\"1\" /><path clip-path=\"url(#clip020)\" d=\"M91.0151 929.385 Q87.404 929.385 85.5753 932.949 Q83.7697 936.491 83.7697 943.621 Q83.7697 950.727 85.5753 954.292 Q87.404 957.834 91.0151 957.834 Q94.6493 957.834 96.4548 954.292 Q98.2835 950.727 98.2835 943.621 Q98.2835 936.491 96.4548 932.949 Q94.6493 929.385 91.0151 929.385 M91.0151 925.681 Q96.8252 925.681 99.8808 930.287 Q102.959 934.871 102.959 943.621 Q102.959 952.347 99.8808 956.954 Q96.8252 961.537 91.0151 961.537 Q85.2049 961.537 82.1262 956.954 Q79.0707 952.347 79.0707 943.621 Q79.0707 934.871 82.1262 930.287 Q85.2049 925.681 91.0151 925.681 Z\" fill=\"#000000\" fill-rule=\"evenodd\" fill-opacity=\"1\" /><path clip-path=\"url(#clip020)\" d=\"M102.959 919.782 L127.071 919.782 L127.071 922.98 L102.959 922.98 L102.959 919.782 Z\" fill=\"#000000\" fill-rule=\"evenodd\" fill-opacity=\"1\" /><path clip-path=\"url(#clip020)\" d=\"M135.929 930.258 L142.136 930.258 L142.136 908.836 L135.384 910.19 L135.384 906.73 L142.098 905.376 L145.898 905.376 L145.898 930.258 L152.104 930.258 L152.104 933.456 L135.929 933.456 L135.929 930.258 Z\" fill=\"#000000\" fill-rule=\"evenodd\" fill-opacity=\"1\" /><path clip-path=\"url(#clip020)\" d=\"M167.903 907.877 Q164.969 907.877 163.483 910.773 Q162.016 913.651 162.016 919.444 Q162.016 925.218 163.483 928.114 Q164.969 930.992 167.903 930.992 Q170.855 930.992 172.322 928.114 Q173.808 925.218 173.808 919.444 Q173.808 913.651 172.322 910.773 Q170.855 907.877 167.903 907.877 M167.903 904.868 Q172.623 904.868 175.106 908.61 Q177.607 912.334 177.607 919.444 Q177.607 926.534 175.106 930.277 Q172.623 934.001 167.903 934.001 Q163.182 934.001 160.68 930.277 Q158.198 926.534 158.198 919.444 Q158.198 912.334 160.68 908.61 Q163.182 904.868 167.903 904.868 Z\" fill=\"#000000\" fill-rule=\"evenodd\" fill-opacity=\"1\" /><path clip-path=\"url(#clip020)\" d=\"M106.902 76.8106 L114.541 76.8106 L114.541 50.445 L106.231 52.1116 L106.231 47.8524 L114.494 46.1858 L119.17 46.1858 L119.17 76.8106 L126.809 76.8106 L126.809 80.7458 L106.902 80.7458 L106.902 76.8106 Z\" fill=\"#000000\" fill-rule=\"evenodd\" fill-opacity=\"1\" /><path clip-path=\"url(#clip020)\" d=\"M146.253 49.2644 Q142.642 49.2644 140.814 52.8292 Q139.008 56.3709 139.008 63.5005 Q139.008 70.6069 140.814 74.1717 Q142.642 77.7134 146.253 77.7134 Q149.888 77.7134 151.693 74.1717 Q153.522 70.6069 153.522 63.5005 Q153.522 56.3709 151.693 52.8292 Q149.888 49.2644 146.253 49.2644 M146.253 45.5608 Q152.064 45.5608 155.119 50.1672 Q158.198 54.7505 158.198 63.5005 Q158.198 72.2273 155.119 76.8337 Q152.064 81.417 146.253 81.417 Q140.443 81.417 137.365 76.8337 Q134.309 72.2273 134.309 63.5005 Q134.309 54.7505 137.365 50.1672 Q140.443 45.5608 146.253 45.5608 Z\" fill=\"#000000\" fill-rule=\"evenodd\" fill-opacity=\"1\" /><path clip-path=\"url(#clip020)\" d=\"M167.903 27.7568 Q164.969 27.7568 163.483 30.6532 Q162.016 33.5308 162.016 39.3236 Q162.016 45.0975 163.483 47.9939 Q164.969 50.8715 167.903 50.8715 Q170.855 50.8715 172.322 47.9939 Q173.808 45.0975 173.808 39.3236 Q173.808 33.5308 172.322 30.6532 Q170.855 27.7568 167.903 27.7568 M167.903 24.7475 Q172.623 24.7475 175.106 28.4903 Q177.607 32.2142 177.607 39.3236 Q177.607 46.4141 175.106 50.1568 Q172.623 53.8808 167.903 53.8808 Q163.182 53.8808 160.68 50.1568 Q158.198 46.4141 158.198 39.3236 Q158.198 32.2142 160.68 28.4903 Q163.182 24.7475 167.903 24.7475 Z\" fill=\"#000000\" fill-rule=\"evenodd\" fill-opacity=\"1\" /><polyline clip-path=\"url(#clip022)\" style=\"stroke:#009af9; stroke-linecap:butt; stroke-linejoin:round; stroke-width:4; stroke-opacity:1; fill:none\" points=\"\n",
       "  400.278,1434.72 526.407,1381.73 652.537,1197.48 778.666,1128.74 904.795,1113.16 1030.92,984.777 1157.05,984.777 1283.18,780.149 1409.31,722.826 1535.44,680.344 \n",
       "  1661.57,680.344 1787.7,450.994 1913.83,374.945 2039.96,329.618 2166.08,168.082 2292.21,87.9763 \n",
       "  \"/>\n",
       "<polyline clip-path=\"url(#clip022)\" style=\"stroke:#e26f46; stroke-linecap:butt; stroke-linejoin:round; stroke-width:4; stroke-opacity:1; fill:none\" points=\"\n",
       "  274.149,1445.72 400.278,1403.72 526.407,1347.68 652.537,1204.28 778.666,1133.21 904.795,1083.31 1030.92,936.343 1157.05,886.145 1283.18,915.65 1409.31,722.337 \n",
       "  1535.44,722.337 1661.57,722.337 1787.7,440.117 1913.83,371.61 2039.96,371.61 2166.08,167.712 2292.21,99.0106 \n",
       "  \"/>\n",
       "<path clip-path=\"url(#clip020)\" d=\"\n",
       "M1991.34 250.738 L2281.45 250.738 L2281.45 95.2176 L1991.34 95.2176  Z\n",
       "  \" fill=\"#ffffff\" fill-rule=\"evenodd\" fill-opacity=\"1\"/>\n",
       "<polyline clip-path=\"url(#clip020)\" style=\"stroke:#000000; stroke-linecap:butt; stroke-linejoin:round; stroke-width:4; stroke-opacity:1; fill:none\" points=\"\n",
       "  1991.34,250.738 2281.45,250.738 2281.45,95.2176 1991.34,95.2176 1991.34,250.738 \n",
       "  \"/>\n",
       "<polyline clip-path=\"url(#clip020)\" style=\"stroke:#009af9; stroke-linecap:butt; stroke-linejoin:round; stroke-width:4; stroke-opacity:1; fill:none\" points=\"\n",
       "  2015.11,147.058 2157.72,147.058 \n",
       "  \"/>\n",
       "<path clip-path=\"url(#clip020)\" d=\"M2195.33 166.745 Q2193.52 171.375 2191.81 172.787 Q2190.1 174.199 2187.22 174.199 L2183.82 174.199 L2183.82 170.634 L2186.32 170.634 Q2188.08 170.634 2189.05 169.8 Q2190.03 168.967 2191.21 165.865 L2191.97 163.921 L2181.48 138.412 L2186 138.412 L2194.1 158.689 L2202.2 138.412 L2206.72 138.412 L2195.33 166.745 Z\" fill=\"#000000\" fill-rule=\"evenodd\" fill-opacity=\"1\" /><path clip-path=\"url(#clip020)\" d=\"M2214.01 160.402 L2221.65 160.402 L2221.65 134.037 L2213.34 135.703 L2213.34 131.444 L2221.6 129.778 L2226.28 129.778 L2226.28 160.402 L2233.91 160.402 L2233.91 164.338 L2214.01 164.338 L2214.01 160.402 Z\" fill=\"#000000\" fill-rule=\"evenodd\" fill-opacity=\"1\" /><polyline clip-path=\"url(#clip020)\" style=\"stroke:#e26f46; stroke-linecap:butt; stroke-linejoin:round; stroke-width:4; stroke-opacity:1; fill:none\" points=\"\n",
       "  2015.11,198.898 2157.72,198.898 \n",
       "  \"/>\n",
       "<path clip-path=\"url(#clip020)\" d=\"M2195.33 218.585 Q2193.52 223.215 2191.81 224.627 Q2190.1 226.039 2187.22 226.039 L2183.82 226.039 L2183.82 222.474 L2186.32 222.474 Q2188.08 222.474 2189.05 221.64 Q2190.03 220.807 2191.21 217.705 L2191.97 215.761 L2181.48 190.252 L2186 190.252 L2194.1 210.529 L2202.2 190.252 L2206.72 190.252 L2195.33 218.585 Z\" fill=\"#000000\" fill-rule=\"evenodd\" fill-opacity=\"1\" /><path clip-path=\"url(#clip020)\" d=\"M2217.22 212.242 L2233.54 212.242 L2233.54 216.178 L2211.6 216.178 L2211.6 212.242 Q2214.26 209.488 2218.84 204.858 Q2223.45 200.205 2224.63 198.863 Q2226.88 196.34 2227.76 194.604 Q2228.66 192.844 2228.66 191.155 Q2228.66 188.4 2226.72 186.664 Q2224.79 184.928 2221.69 184.928 Q2219.49 184.928 2217.04 185.692 Q2214.61 186.455 2211.83 188.006 L2211.83 183.284 Q2214.66 182.15 2217.11 181.571 Q2219.56 180.993 2221.6 180.993 Q2226.97 180.993 2230.16 183.678 Q2233.36 186.363 2233.36 190.854 Q2233.36 192.983 2232.55 194.905 Q2231.76 196.803 2229.66 199.395 Q2229.08 200.067 2225.97 203.284 Q2222.87 206.479 2217.22 212.242 Z\" fill=\"#000000\" fill-rule=\"evenodd\" fill-opacity=\"1\" /></svg>\n"
      ]
     },
     "metadata": {},
     "output_type": "display_data"
    }
   ],
   "source": [
    "h = 10.0 .^ (0:-1:-16)\n",
    "\n",
    "y1 = nanabs.(cdiff.(f, 0, h) .- 1.0)\n",
    "y2 = nanabs.(cdiff.(g, 0, h) .- 1/3)\n",
    "\n",
    "plot(y1; yscale=:log10)\n",
    "plot!(y2; yscale=:log10)"
   ]
  },
  {
   "cell_type": "code",
   "execution_count": 10,
   "metadata": {},
   "outputs": [],
   "source": [
    "# error of f(x) = 1 + x + x^2\n",
    "\n",
    "# f(x) ≈ 1 + fl(x) + fl(x) * fl(x)\n",
    "#      ≈ 1 + (x+δ) + (x+δ) * (x+δ)\n",
    "#      ≈ (1 + x + δ)(1+δ) + (x^2 + 2δx + δ^2)(1+δ)\n",
    "#      ≈ (1 + x + δ + δ + δx + δ^2\n",
    "\n",
    "\n",
    "# error of f(x) = 1 + x + x^2\n",
    "\n",
    "# |(f(x+h)-f(x-h))/2h - f'(x)| = |(2h-4hx)/2h - 1+2x|\n",
    "#   = 0\n",
    "# So cdiff is exact and the small arrors are due to floating point arithmetic (ie numerical in nature)/.\n",
    "\n",
    "# Similarly for g"
   ]
  },
  {
   "cell_type": "markdown",
   "metadata": {},
   "source": [
    "**Problem 1.3⋆** Use Taylor's theorem to derive an error bound on the second-order derivative approximation\n",
    "$$\n",
    "f''(x) ≈ {f(x+h) - 2f(x) + f(x-h) \\over h^2}\n",
    "$$\n",
    "Find an error bound when implemented in floating point arithmetic, assuming that\n",
    "$$\n",
    "f^{\\rm FP}(x) = f(x) + δ_x\n",
    "$$\n",
    "where $|δ_x| \\leq c ϵ_{\\rm m}$."
   ]
  },
  {
   "cell_type": "code",
   "execution_count": null,
   "metadata": {},
   "outputs": [],
   "source": [
    "# Question 1.3\n",
    "\n",
    "\n",
    "# f(x+h) = f(x) + hf'(x) + h^2/2 f''(x) + h^3/6 f'''(c₁)  for c₁∈(x, x+h)\n",
    "# f(x-h) = f(x) - hf'(x) + h^2/2 f''(x) - h^3/6 f'''(c₂)  for c₂∈(x, x+h)\n",
    "\n",
    "# ⟹ f(x+h) + f(x-h) = 2f(x) + h^2 f''(x) + h^3/6 (f'''(c₁) + f'''(c₂))\n",
    "# ⟹ f''(x) = (f(x+h) - 2f(x) + f(x-h))/h^2 - h/6 (f'''(c₁) + f'''(c₂))\n",
    "\n",
    "# So, f''(x) ≈ (f(x+h) - 2f(x) + f(x-h))/h^2 with an error:\n",
    "# h/6 (f'''(c₁) + f'''(c₂)) ≤ C h where,\n",
    "# C ≤ 1/3 sup(f'''(y)) for y∈[x-h, x+h]\n",
    "\n",
    "\n",
    "# In floating point arithmetic then,\n",
    "# |f''^FP(x) - f''(x)| ≤ |(δ_{x-h} - 2δ_x + δ_{x+h})/h^2| + Ch\n",
    "# ≤ 4cϵₘ/h^2 + Ch"
   ]
  },
  {
   "cell_type": "markdown",
   "metadata": {},
   "source": [
    "**Problem 1.4** Use finite-differences, central differences, and second-order finite-differences to approximate to 5-digits the first and second \n",
    "derivatives to the following functions\n",
    "at the point $x = 0.1$:\n",
    "$$\n",
    "\\exp(\\exp x \\cos x + \\sin x), \\prod_{k=1}^{1000} \\left({x \\over k}-1\\right), \\hbox{ and } f^{\\rm s}_{1000}(x)\n",
    "$$\n",
    "where $f^{\\rm s}_n(x)$ corresponds to $n$-terms of the following continued fraction:\n",
    "$$\n",
    "1 + {x-1 \\over 2 + {x-1 \\over 2 + {x-1 \\over 2 + \\ddots}}},\n",
    "$$\n",
    "e.g.:\n",
    "$$\n",
    "\\begin{align*}\n",
    "f^{\\rm s}_1(x) &= 1 + {x-1 \\over 2} \\\\\n",
    "f^{\\rm s}_2(x) &= 1 + {x-1 \\over 2 + {x -1 \\over 2}} \\\\\n",
    "f^{\\rm s}_3(x) &= 1 + {x-1 \\over 2 + {x -1 \\over 2 + {x-1 \\over 2}}}\n",
    "\\end{align*}\n",
    "$$"
   ]
  },
  {
   "cell_type": "code",
   "execution_count": 33,
   "metadata": {},
   "outputs": [
    {
     "data": {
      "text/plain": [
       "f3 (generic function with 1 method)"
      ]
     },
     "execution_count": 33,
     "metadata": {},
     "output_type": "execute_result"
    }
   ],
   "source": [
    "# Question 1.4\n",
    "\n",
    "\n",
    "# compute forward, backward and 2nd order difference\n",
    "fdiff(x, h, f) = (f(x+h) - f(x))/h\n",
    "bdiff(x, h, f) = (f(x) - f(x-h))/h\n",
    "sdiff(x, h, f) = (f(x+h) - 2*f(x) + f(x-h))/h^2\n",
    "\n",
    "x = 0.1\n",
    "\n",
    "f1(x) = exp(exp(x)*cos(x) + sin(x))\n",
    "f2(x) = prod([x] ./ (1:1000) .- 1)\n",
    "function f3(n, x)\n",
    "    total = 1 + (x-1)/2\n",
    "    for i in (1:n)\n",
    "        total = 1 + (x-1)/(1 + total)\n",
    "    end\n",
    "    total\n",
    "end"
   ]
  },
  {
   "cell_type": "code",
   "execution_count": 39,
   "metadata": {},
   "outputs": [
    {
     "name": "stdout",
     "output_type": "stream",
     "text": [
      "f'(x) with forward difference: 6.584772557020187\n",
      "f'(x) with backward difference: 6.584772527217865\n",
      "f'(x) with central difference: 6.5847725545726465\n",
      "f''(x) via finite difference:  12.002673711904597\n"
     ]
    }
   ],
   "source": [
    "# f1\n",
    "h = eps()\n",
    "println(\"f'(x) with forward difference: \", fdiff(x, sqrt(h), f1))\n",
    "println(\"f'(x) with backward difference: \", bdiff(x, sqrt(h), f1))\n",
    "println(\"f'(x) with central difference: \", cdiff(f1, x, cbrt(h)))\n",
    "println(\"f''(x) via finite difference:  \", sdiff(x, cbrt(h), f1))"
   ]
  },
  {
   "cell_type": "code",
   "execution_count": 36,
   "metadata": {},
   "outputs": [
    {
     "name": "stdout",
     "output_type": "stream",
     "text": [
      "f'(x) with forward difference: -3.5938263945281506\n",
      "f'(x) with backward difference: -3.5938266813755035\n",
      "f'(x) with central difference: -3.5938265143048937\n",
      "f''(x) via finite difference:  26.638555736977985\n"
     ]
    }
   ],
   "source": [
    "# f2\n",
    "println(\"f'(x) with forward difference: \", fdiff(x, sqrt(h), f2))\n",
    "println(\"f'(x) with backward difference: \", bdiff(x, sqrt(h), f2))\n",
    "println(\"f'(x) with central difference: \", cdiff(f2, x, cbrt(h)))\n",
    "println(\"f''(x) via finite difference:  \", sdiff(x, cbrt(h), f2))"
   ]
  },
  {
   "cell_type": "code",
   "execution_count": 41,
   "metadata": {},
   "outputs": [
    {
     "name": "stdout",
     "output_type": "stream",
     "text": [
      "f'(x) with forward difference: 1.5811387598514557\n",
      "f'(x) with backward difference: 1.5811388865113258\n",
      "f'(x) with central difference: 1.5811388231813908\n",
      "f''(x) via finite difference:  -7.905698560322122\n"
     ]
    }
   ],
   "source": [
    "# f3\n",
    "println(\"f'(x) with forward difference: \", fdiff(x, sqrt(h), x -> f3(1000, x)))\n",
    "println(\"f'(x) with backward difference: \", bdiff(x, sqrt(h), x -> f3(1000, x)))\n",
    "println(\"f'(x) with central difference: \", cdiff(x -> f3(1000, x), x, sqrt(h)))\n",
    "println(\"f''(x) via finite difference:  \", sdiff(x, cbrt(h), x -> f3(1000, x)))"
   ]
  },
  {
   "cell_type": "markdown",
   "metadata": {},
   "source": [
    "## 2. Dual numbers"
   ]
  },
  {
   "cell_type": "code",
   "execution_count": 3,
   "metadata": {},
   "outputs": [
    {
     "data": {
      "text/plain": [
       "/ (generic function with 136 methods)"
      ]
     },
     "execution_count": 3,
     "metadata": {},
     "output_type": "execute_result"
    }
   ],
   "source": [
    "# Dual(a,b) represents a + b*ϵ\n",
    "struct Dual{T}\n",
    "    a::T\n",
    "    b::T\n",
    "end\n",
    "\n",
    "# Dual(a) represents a + 0*ϵ\n",
    "Dual(a::Real) = Dual(a, zero(a)) # for real numbers we use a + 0ϵ\n",
    "\n",
    "# Allow for a + b*ϵ syntax\n",
    "const ϵ = Dual(0, 1)\n",
    "\n",
    "import Base: +, *, -, /, ^, zero, exp, cos, sin\n",
    "\n",
    "# support polynomials like 1 + x, x - 1, 2x or x*2 by reducing to Dual\n",
    "+(x::Real, y::Dual) = Dual(x) + y\n",
    "+(x::Dual, y::Real) = x + Dual(y)\n",
    "-(x::Real, y::Dual) = Dual(x) - y\n",
    "-(x::Dual, y::Real) = x - Dual(y)\n",
    "*(x::Real, y::Dual) = Dual(x) * y\n",
    "*(x::Dual, y::Real) = x * Dual(y)\n",
    "\n",
    "# support x/2 (but not yet division of duals)\n",
    "/(x::Dual, k::Real) = Dual(x.a/k, x.b/k)\n",
    "\n",
    "# a simple recursive function to support x^2, x^3, etc.\n",
    "function ^(x::Dual, k::Integer)\n",
    "    if k < 0\n",
    "        error(\"Not implemented\")\n",
    "    elseif k == 1\n",
    "        x\n",
    "    else\n",
    "        x^(k-1) * x\n",
    "    end\n",
    "end\n",
    "\n",
    "# Algebraic operationds for duals\n",
    "-(x::Dual) = Dual(-x.a, -x.b)\n",
    "+(x::Dual, y::Dual) = Dual(x.a + y.a, x.b + y.b)\n",
    "-(x::Dual, y::Dual) = Dual(x.a - y.a, x.b - y.b)\n",
    "*(x::Dual, y::Dual) = Dual(x.a*y.a, x.a*y.b + x.b*y.a)\n",
    "\n",
    "exp(x::Dual) = Dual(exp(x.a), exp(x.a) * x.b)\n",
    "\n",
    "function cos(x::Dual)\n",
    "    # TODO: implement cos for Duals\n",
    "end\n",
    "\n",
    "function sin(x::Dual)\n",
    "    # TODO: implement sin for Duals\n",
    "end\n",
    "\n",
    "function /(x::Dual, y::Dual)\n",
    "    # TODO: implement division for Duals\n",
    "end"
   ]
  },
  {
   "cell_type": "markdown",
   "metadata": {},
   "source": [
    "**Problem 2.1⋆** \n",
    "Show that dual numbers $𝔻$ are a _commutative ring_, that is, for all $a,b,c ∈ 𝔻$ the following are satisfied:\n",
    "1. _additive associativity_: $(a + b) + c = a + (b + c)$\n",
    "2. _additive commutativity_: $a + b = b + a$\n",
    "3. _additive identity_: There exists $0 ∈ 𝔻$ such that $a + 0 = a$.\n",
    "4. _additive inverse_: There exists $-a$ such that $(-a) + a = 0$.\n",
    "5. _multiplicative associativity_: $(ab)c = a(bc)$\n",
    "6. _multiplictive commutativity_: $ab = ba$\n",
    "7. _multiplictive identity_: There exists $1 ∈ 𝔻$ such that $1a= a$.\n",
    "8. _distributive_: $a(b+c) = ab + ac$"
   ]
  },
  {
   "cell_type": "code",
   "execution_count": null,
   "metadata": {},
   "outputs": [],
   "source": [
    "# Question 2.1\n",
    "\n",
    "\n",
    "# 1, 2 clear\n",
    "# 3 additive identity = 0 + 0ϵ\n",
    "# 4 additive inverse = -a - bϵ\n",
    "# 5, 6, 8 clear\n",
    "# 7 multiplicative identity = 1 + 0ϵ"
   ]
  },
  {
   "cell_type": "markdown",
   "metadata": {},
   "source": [
    "**Problem 2.2⋆** A _field_ is a commutative ring such that $0 ≠ 1$ and all nonzero elements have a multiplicative inverse, i.e.,\n",
    "there exists $a^{-1}$ such that $a a^{-1} = 1$. Why isn't $𝔻$ a field?"
   ]
  },
  {
   "cell_type": "code",
   "execution_count": null,
   "metadata": {},
   "outputs": [],
   "source": []
  },
  {
   "cell_type": "markdown",
   "metadata": {},
   "source": [
    "**Problem 2.3⋆** A _matrix representation_ of a ring are maps from a group/ring to matrices such that matrix addition and multiplication\n",
    "behave exactly like addition and multiplication that of the ring. \n",
    "That is, if $A$ and $B$ are elements of the ring and $ρ$ is a representation, then\n",
    "$$\n",
    "ρ(A + B) = ρ(A) + ρ(B) \\hbox{ and } ρ(AB) = ρ(A)ρ(B).\n",
    "$$\n",
    "Show that the following are matrix representations of complex numbers and\n",
    "dual numbers (respectively):\n",
    "$$\n",
    "\\begin{align*}\n",
    "a + b {\\rm i} &\\mapsto \\begin{pmatrix} a & b \\\\ -b & a \\end{pmatrix} \\\\\n",
    "a + b {\\rm i} &\\mapsto \\begin{pmatrix} a & b \\\\ 0 & a \\end{pmatrix}\n",
    "\\end{align*}\n",
    "$$"
   ]
  },
  {
   "cell_type": "code",
   "execution_count": null,
   "metadata": {},
   "outputs": [],
   "source": []
  },
  {
   "cell_type": "markdown",
   "metadata": {},
   "source": [
    "**Problem 2.4⋆** What is the correct definition of division on dual numbers, i.e.,\n",
    "$$\n",
    "(a + b \\epsilon )/(c + d \\epsilon ) = s + t \\epsilon\n",
    "$$\n",
    "for what choice of $s$ and $t$? Use dual numbers to compute the derivative of the following functions at $x = 0.1$:\n",
    "$$\n",
    "\\exp(\\exp x \\cos x + \\sin x), \\prod_{k=1}^3 \\left({x \\over k}-1\\right),\\hbox{ and } f^{\\rm s}_2(x) = {1 + {x - 1 \\over 2 + {x-1 \\over 2}}}\n",
    "$$"
   ]
  },
  {
   "cell_type": "code",
   "execution_count": null,
   "metadata": {},
   "outputs": [],
   "source": []
  },
  {
   "cell_type": "markdown",
   "metadata": {},
   "source": [
    "**Problem 2.5** Add support for `cos`, `sin`, and `/` to the type `Dual`:"
   ]
  },
  {
   "cell_type": "markdown",
   "metadata": {},
   "source": [
    "**Problem 2.6** Use dual numbers to compute the derivatives to\n",
    "$$\n",
    "\\exp(\\exp x \\cos x + \\sin x), \\prod_{k=1}^{1000} \\left({x \\over k}-1\\right), \\hbox{ and } f^{\\rm s}_{1000}(x).\n",
    "$$\n",
    "Does your answer match (to 5 digits) Problem 1.4?\n",
    "\n",
    "\n",
    "## 3. Newton iteration\n",
    "\n",
    "Newton iteration is an algorithm for computed roots of a function $f$ using its derivative: given an initial guess $x_0$, one\n",
    "obtains a sequence of guesses via\n",
    "$$\n",
    "x_{k+1} = x_k - {f(x_k) \\over f'(x_k)}\n",
    "$$\n",
    "\n",
    "**Problem 3.1** Use `Dual` to implement the following function which returns $x_n$:"
   ]
  },
  {
   "cell_type": "code",
   "execution_count": 3,
   "metadata": {
    "execution": {
     "iopub.execute_input": "2022-01-19T20:07:29.580681Z",
     "iopub.status.busy": "2022-01-19T20:07:29.580114Z",
     "iopub.status.idle": "2022-01-19T20:07:29.686903Z",
     "shell.execute_reply": "2022-01-19T20:07:29.686205Z"
    }
   },
   "outputs": [
    {
     "data": {
      "text/plain": [
       "newton (generic function with 1 method)"
      ]
     },
     "execution_count": 3,
     "metadata": {},
     "output_type": "execute_result"
    }
   ],
   "source": [
    "function newton(f, x0, n)\n",
    "    ## TODO: compute x_n \n",
    "end"
   ]
  },
  {
   "cell_type": "markdown",
   "metadata": {},
   "source": [
    "**Problem 3.2** Compute points $y$ such that $|f(y)| \\leq 10^{-13}$ (i.e., approximate roots):\n",
    "$$\n",
    "\\exp(\\exp x \\cos x + \\sin x)-6\\hbox{ and } \\prod_{k=1}^{1000} \\left({x \\over k}-1\\right) - {1 \\over 2}\n",
    "$$\n",
    "(Hint: you may need to try different `x0` and `n` to get convergence. Plotting the function should give an\n",
    "indication of a good initial guess.)\n",
    "\n",
    "**Problem 3.3** Compute points $y$ such that $|f^{\\rm s}_{1000}(y) - j| \\leq 10^{-13}$ for $j = 1,2,3$. \n",
    "Make a conjecture of what $f^{\\rm s}_n(x)$ converges to as $n → ∞$. (Bonus problem: Prove your conjecture.)"
   ]
  }
 ],
 "metadata": {
  "kernelspec": {
   "display_name": "Julia 1.7.1",
   "language": "julia",
   "name": "julia-1.7"
  },
  "language_info": {
   "file_extension": ".jl",
   "mimetype": "application/julia",
   "name": "julia",
   "version": "1.7.1"
  }
 },
 "nbformat": 4,
 "nbformat_minor": 2
}
