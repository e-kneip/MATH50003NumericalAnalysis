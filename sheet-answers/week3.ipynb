{
 "cells": [
  {
   "cell_type": "markdown",
   "metadata": {},
   "source": [
    "# MATH50003 Numerical Analysis: Problem 3\n",
    "\n",
    "This problem sheet explores implementation of triangular solves,\n",
    "supporting a matrix with two super-diagonals, as well as\n",
    "permutation and Householder reflections that can be applied to a vector in\n",
    "$O(n)$ complexity."
   ]
  },
  {
   "cell_type": "code",
   "execution_count": 1,
   "metadata": {
    "execution": {
     "iopub.execute_input": "2022-01-21T15:14:34.786524Z",
     "iopub.status.busy": "2022-01-21T15:14:34.340567Z",
     "iopub.status.idle": "2022-01-21T15:14:35.019587Z",
     "shell.execute_reply": "2022-01-21T15:14:35.019006Z"
    }
   },
   "outputs": [],
   "source": [
    "using LinearAlgebra, Test\n",
    "\n",
    "# We will override these functions below\n",
    "import Base: getindex, setindex!, size, *, \\"
   ]
  },
  {
   "cell_type": "markdown",
   "metadata": {},
   "source": [
    "## 1. Dense Matrices\n",
    "\n",
    "**Problem 1.1** Show that `A*x` is not\n",
    "implemented as `mul(A, x)` from the lecture notes\n",
    "by finding a `Float64` example  where the bits do not match."
   ]
  },
  {
   "cell_type": "code",
   "execution_count": 2,
   "metadata": {},
   "outputs": [
    {
     "data": {
      "text/plain": [
       "mul (generic function with 1 method)"
      ]
     },
     "metadata": {},
     "output_type": "display_data"
    }
   ],
   "source": [
    "# Question 1.1\n",
    "\n",
    " function mul(A, x)\n",
    "    m, n = size(A)\n",
    "    c = zeros(eltype(x), m)\n",
    "    for j = 1:n, k = 1:m\n",
    "        c[k] += x[j] * A[k, j]\n",
    "    end\n",
    "    c\n",
    "end"
   ]
  },
  {
   "cell_type": "code",
   "execution_count": 3,
   "metadata": {},
   "outputs": [
    {
     "name": "stdout",
     "output_type": "stream",
     "text": [
      "[14, 32, 50]\n",
      "[14, 32, 50]"
     ]
    }
   ],
   "source": [
    "A = [1 2 3;\n",
    "     4 5 6;\n",
    "     7 8 9]\n",
    "\n",
    "x = [1, 2, 3]\n",
    "\n",
    "println(mul(A,x))\n",
    "print(A*x)"
   ]
  },
  {
   "cell_type": "code",
   "execution_count": 4,
   "metadata": {},
   "outputs": [
    {
     "data": {
      "text/plain": [
       "3.2957919968262575e-16"
      ]
     },
     "metadata": {},
     "output_type": "display_data"
    }
   ],
   "source": [
    "# Find example\n",
    "\n",
    "function findex(n, l)\n",
    "    for j = 1:n\n",
    "        A = randn(l,l)\n",
    "        x = rand(l)\n",
    "        if A*x != mul(A, x)\n",
    "            return (A,x)\n",
    "        end\n",
    "    end\n",
    "end\n",
    "\n",
    "n = 100  # number of attempts\n",
    "l = 10  # dimensions\n",
    "\n",
    "(A,x) = findex(n, l)\n",
    "\n",
    "norm(A*x - mul(A, x))"
   ]
  },
  {
   "cell_type": "markdown",
   "metadata": {},
   "source": [
    "## 2. Triangular Matrices\n",
    "\n",
    "**Problem 2.1** Complete the following functions for solving linear systems with\n",
    "triangular systems by implementing back and forward-substitution:"
   ]
  },
  {
   "cell_type": "code",
   "execution_count": 5,
   "metadata": {},
   "outputs": [
    {
     "data": {
      "text/plain": [
       "3"
      ]
     },
     "metadata": {},
     "output_type": "display_data"
    }
   ],
   "source": [
    "mat = [1 2 3\n",
    "       4 5 6]\n",
    "size(mat, 2)"
   ]
  },
  {
   "cell_type": "code",
   "execution_count": 6,
   "metadata": {
    "execution": {
     "iopub.execute_input": "2022-01-21T15:14:35.021752Z",
     "iopub.status.busy": "2022-01-21T15:14:35.021115Z",
     "iopub.status.idle": "2022-01-21T15:14:35.453273Z",
     "shell.execute_reply": "2022-01-21T15:14:35.452865Z"
    }
   },
   "outputs": [
    {
     "data": {
      "text/plain": [
       "ldiv (generic function with 1 method)"
      ]
     },
     "metadata": {},
     "output_type": "display_data"
    }
   ],
   "source": [
    "function udiv(U::UpperTriangular, b)\n",
    "    n = size(U,1)\n",
    "    \n",
    "    if length(b) != n\n",
    "        error(\"The system is not compatible\")\n",
    "    end\n",
    "        \n",
    "    x = zeros(n) \n",
    "    x[n] = b[n]/U[n, n]    \n",
    "    for i in n-1:-1:1\n",
    "        S = 0\n",
    "        for j in i+1:n\n",
    "            S += U[i, j] * x[j]\n",
    "        end\n",
    "        x[i] = (b[i] - S)/U[i, i]\n",
    "    end\n",
    "    x\n",
    "end\n",
    "\n",
    "function ldiv(U::LowerTriangular, b)\n",
    "    n = size(U,1)\n",
    "    \n",
    "    if length(b) != n\n",
    "        error(\"The system is not compatible\")\n",
    "    end\n",
    "        \n",
    "    x = zeros(n)  \n",
    "    x[1] = b[1]/U[1,1]\n",
    "    for i in 2:n\n",
    "        S = 0\n",
    "        for j in 1:i-1\n",
    "            S += U[i, j] * x[j]\n",
    "        end\n",
    "        x[i] = (b[i] - S)/U[i, i]\n",
    "    end\n",
    "    x\n",
    "end"
   ]
  },
  {
   "cell_type": "code",
   "execution_count": 7,
   "metadata": {},
   "outputs": [
    {
     "name": "stdout",
     "output_type": "stream",
     "text": [
      "[16.605894709326172, 9.013965113462055, -0.4398644479870723]\n",
      "[7.240792300046777, 9.686490843927656, -3.3599233444086853]"
     ]
    }
   ],
   "source": [
    "# Checking\n",
    "A = randn(3,3)\n",
    "b = randn(3)\n",
    "A = UpperTriangular(A)\n",
    "println(A\\b)\n",
    "\n",
    "B = LowerTriangular(A.data)\n",
    "print(B\\b)"
   ]
  },
  {
   "cell_type": "code",
   "execution_count": 8,
   "metadata": {},
   "outputs": [
    {
     "name": "stdout",
     "output_type": "stream",
     "text": [
      "[16.605894709326176, 9.013965113462055, -0.4398644479870723]\n",
      "[7.240792300046777, 9.686490843927656, -3.359923344408684]"
     ]
    }
   ],
   "source": [
    "println(udiv(A, b))\n",
    "print(ldiv(B, b))"
   ]
  },
  {
   "cell_type": "markdown",
   "metadata": {},
   "source": [
    "**Problem 2.2⋆** Given $𝐱 ∈ ℝ^n$, find a lower triangular matrix of the form\n",
    "$$\n",
    "L = I - 2 𝐯 𝐞_1^⊤\n",
    "$$\n",
    "such that:\n",
    "$$\n",
    "L 𝐱 = x_1 𝐞_1.\n",
    "$$\n",
    "What does $L𝐲$ equal if $𝐲  ∈ ℝ^n$ satisfies $y_1 = 𝐞_1^⊤ 𝐲 = 0$?"
   ]
  },
  {
   "cell_type": "code",
   "execution_count": 9,
   "metadata": {},
   "outputs": [],
   "source": [
    "# Question 2.2\n",
    "\n",
    "# Lx = (I - 2ve₁ᵀ)x\n",
    "#    = x - 2ve₁ᵀx\n",
    "#    = x - 2vx₁\n",
    "# soooooo\n",
    "# I-2ve₁ᵀ = \n",
    "# 1 0 0   0 0       2v₁ 0 0   0 0\n",
    "# 0 1 0   0 0       2v₂ 0 0   0 0\n",
    "# 0 0 1   0 0       2v₃ 0 0   0 0\n",
    "#               -   \n",
    "# 0 0 0   1 0       \n",
    "# 0 0 0   0 1       2vₙ 0 0   0 0\n",
    "# so choose v such that v₁=0 and vₖ = xₖ/2x₁ for x₁≠0, else...\n",
    "\n",
    "# If y₁ = 0, then Ly = y :)"
   ]
  },
  {
   "cell_type": "markdown",
   "metadata": {},
   "source": [
    "## 3. Banded matrices\n",
    "\n",
    "**Problem 3.1** Complete the implementation of `UpperTridiagonal` which represents a banded matrix with\n",
    "bandwidths $(l,u) = (0,2)$:"
   ]
  },
  {
   "cell_type": "code",
   "execution_count": 10,
   "metadata": {},
   "outputs": [],
   "source": [
    "# BANDWIDTH = ie the nunmber of steps from the diagonal so that all entries are 0\n",
    "# so (0,2) means all below diag are 0 and all above 2nd upper diag are 0"
   ]
  },
  {
   "cell_type": "code",
   "execution_count": 11,
   "metadata": {
    "execution": {
     "iopub.execute_input": "2022-01-21T15:14:35.455661Z",
     "iopub.status.busy": "2022-01-21T15:14:35.455040Z",
     "iopub.status.idle": "2022-01-21T15:14:35.552876Z",
     "shell.execute_reply": "2022-01-21T15:14:35.552441Z"
    }
   },
   "outputs": [
    {
     "data": {
      "text/plain": [
       "setindex! (generic function with 91 methods)"
      ]
     },
     "metadata": {},
     "output_type": "display_data"
    }
   ],
   "source": [
    "struct UpperTridiagonal{T} <: AbstractMatrix{T}\n",
    "    d::Vector{T}   # diagonal entries\n",
    "    du::Vector{T}  # super-diagonal enries\n",
    "    du2::Vector{T} # second-super-diagonal entries\n",
    "end\n",
    "\n",
    "size(U::UpperTridiagonal) = (length(U.d),length(U.d))\n",
    "\n",
    "function getindex(U::UpperTridiagonal, k::Int, j::Int)\n",
    "    d,du,du2 = U.d,U.du,U.du2\n",
    "    # TODO: return U[k,j]\n",
    "\n",
    "    if k==j\n",
    "        return U.d[k]\n",
    "    elseif k+1==j\n",
    "        return U.du[k]\n",
    "    elseif k+2==j\n",
    "        return U.du2[k]\n",
    "    else\n",
    "        return zero(eltype(U))\n",
    "    end\n",
    "end\n",
    "\n",
    "function setindex!(U::UpperTridiagonal, v, k::Int, j::Int)\n",
    "    d,du,du2 = U.d,U.du,U.du2\n",
    "    if (j > k+2) || (j<k)\n",
    "        error(\"Cannot modify off-band\")\n",
    "    end\n",
    "\n",
    "    # TODO: modify d,du,du2 so that U[k,j] == v\n",
    "\n",
    "    if k==j\n",
    "        U.d[k] = v\n",
    "    elseif k+1==j\n",
    "        U.du[k] = v\n",
    "    elseif k+2==j\n",
    "        U.du2[k] = v\n",
    "    end\n",
    "\n",
    "    U # by convention we return the matrix\n",
    "end"
   ]
  },
  {
   "cell_type": "code",
   "execution_count": 12,
   "metadata": {},
   "outputs": [
    {
     "data": {
      "text/plain": [
       "4×4 UpperTridiagonal{Int64}:\n",
       " 1  1  1  0\n",
       " 0  2  2  2\n",
       " 0  0  3  3\n",
       " 0  0  0  4"
      ]
     },
     "metadata": {},
     "output_type": "display_data"
    }
   ],
   "source": [
    "A = UpperTridiagonal([1,2,3,4], [1,2,3], [1,2])"
   ]
  },
  {
   "cell_type": "code",
   "execution_count": 13,
   "metadata": {},
   "outputs": [
    {
     "data": {
      "text/plain": [
       "4×4 UpperTridiagonal{Int64}:\n",
       " 5  1  1  0\n",
       " 0  2  2  2\n",
       " 0  0  3  3\n",
       " 0  0  0  4"
      ]
     },
     "metadata": {},
     "output_type": "display_data"
    }
   ],
   "source": [
    "A[1,1] = 5\n",
    "A"
   ]
  },
  {
   "cell_type": "markdown",
   "metadata": {},
   "source": [
    "**Problem 3.2** Complete the following implementations of `*` and `\\` for `UpperTridiagonal` so that\n",
    "they take only $O(n)$ operations."
   ]
  },
  {
   "cell_type": "code",
   "execution_count": 14,
   "metadata": {
    "execution": {
     "iopub.execute_input": "2022-01-21T15:14:35.554903Z",
     "iopub.status.busy": "2022-01-21T15:14:35.554376Z",
     "iopub.status.idle": "2022-01-21T15:14:35.653168Z",
     "shell.execute_reply": "2022-01-21T15:14:35.652641Z"
    }
   },
   "outputs": [
    {
     "data": {
      "text/plain": [
       "\\ (generic function with 136 methods)"
      ]
     },
     "metadata": {},
     "output_type": "display_data"
    }
   ],
   "source": [
    "function *(U::UpperTridiagonal, x::AbstractVector)\n",
    "    T = promote_type(eltype(U), eltype(x)) # make a type that contains both the element type of U and x\n",
    "    b = zeros(T, size(U,1)) # returned vector\n",
    "    # TODO: populate b so that U*x == b (up to rounding)\n",
    "\n",
    "    for i in 1:(size(U,1)-2)\n",
    "        b[i] = U.d[i] * x[i] + U.du[i] * x[i+1] + U.du2[i] * x[i+2]\n",
    "    end\n",
    "\n",
    "    b[end-1] = U.d[end-1] * x[end-1] + U.du[end] * x[end]\n",
    "    b[end] = U.d[end] * x[end]\n",
    "\n",
    "    b\n",
    "end\n",
    "\n",
    "function \\(U::UpperTridiagonal, b::AbstractVector)\n",
    "    T = promote_type(eltype(U), eltype(b)) # make a type that contains both the element type of U and b\n",
    "    x = zeros(T, size(U,2)) # returned vector\n",
    "    m, n = size(U)\n",
    "    # TODO: populate x so that U*x == b (up to rounding)\n",
    "\n",
    "    if size(U, 1) != length(b)\n",
    "        error(\"System not compatible.\")\n",
    "    end\n",
    "\n",
    "    x[n] = b[n]/U[m, n]\n",
    "    x[n-1] = (b[n-1]- x[n]*U[m-1, n])/U[m-1, n-1]\n",
    "\n",
    "    for i in 2:n-1\n",
    "        x[n-i] = (b[n-i] - dot(U[m-i, n-i+1:n-i+2], x[n-i+1:n-i+2]))/U[m-i, n-i]\n",
    "    end\n",
    "\n",
    "    x\n",
    "end"
   ]
  },
  {
   "cell_type": "code",
   "execution_count": 15,
   "metadata": {},
   "outputs": [
    {
     "data": {
      "text/plain": [
       "true"
      ]
     },
     "metadata": {},
     "output_type": "display_data"
    }
   ],
   "source": [
    "Abanded = UpperTridiagonal([1.1,2.2,3.3,4.4], [1.9,2.8,3.7], [1.5,2.4])\n",
    "Adense = Matrix(Abanded) # one of many easy ways to convert to dense storage\n",
    "\n",
    "Adense == Abanded"
   ]
  },
  {
   "cell_type": "code",
   "execution_count": 16,
   "metadata": {},
   "outputs": [
    {
     "data": {
      "text/plain": [
       "4-element Vector{Float64}:\n",
       "  8.145\n",
       " 25.456266666666668\n",
       " 36.02355000000001\n",
       " 40.22260000000001"
      ]
     },
     "metadata": {},
     "output_type": "display_data"
    }
   ],
   "source": [
    "x = [5.2,3/4,2/3,9.1415]\n",
    "Adense*x"
   ]
  },
  {
   "cell_type": "code",
   "execution_count": 17,
   "metadata": {},
   "outputs": [
    {
     "data": {
      "text/plain": [
       "4-element Vector{Float64}:\n",
       "  8.145\n",
       " 25.456266666666668\n",
       " 36.02355000000001\n",
       " 40.22260000000001"
      ]
     },
     "metadata": {},
     "output_type": "display_data"
    }
   ],
   "source": [
    "Abanded*x"
   ]
  },
  {
   "cell_type": "code",
   "execution_count": 18,
   "metadata": {},
   "outputs": [
    {
     "data": {
      "text/plain": [
       "4-element Vector{Float64}:\n",
       "  6.277487146066222\n",
       "  0.7820538024876873\n",
       " -2.1274253902663\n",
       "  2.0776136363636364"
      ]
     },
     "metadata": {},
     "output_type": "display_data"
    }
   ],
   "source": [
    "x = [5.2,3/4,2/3,9.1415]\n",
    "Adense\\x"
   ]
  },
  {
   "cell_type": "code",
   "execution_count": 19,
   "metadata": {},
   "outputs": [
    {
     "data": {
      "text/plain": [
       "4-element Vector{Float64}:\n",
       "  6.277487146066222\n",
       "  0.7820538024876865\n",
       " -2.1274253902662994\n",
       "  2.0776136363636364"
      ]
     },
     "metadata": {},
     "output_type": "display_data"
    }
   ],
   "source": [
    "Abanded\\x"
   ]
  },
  {
   "cell_type": "markdown",
   "metadata": {},
   "source": [
    "## 4. Permutations\n",
    "\n",
    "**Problem 4.1⋆** What are the permutation matrices corresponding to the following permutations?\n",
    "$$\n",
    "\\begin{pmatrix}\n",
    "1 & 2 & 3 \\\\\n",
    "3 & 2 & 1\n",
    "\\end{pmatrix}, \\begin{pmatrix}\n",
    "1 & 2 & 3 & 4 & 5 & 6\\\\\n",
    "2 & 1 & 4 & 3 & 6 & 5\n",
    "\\end{pmatrix}.\n",
    "$$"
   ]
  },
  {
   "cell_type": "code",
   "execution_count": null,
   "metadata": {},
   "outputs": [],
   "source": [
    "# 0 0 1\n",
    "# 0 1 0\n",
    "# 1 0 0\n",
    "\n",
    "# 0 1 0 0 0 0\n",
    "# 1 0 0 0 0 0\n",
    "# 0 0 0 1 0 0\n",
    "# 0 0 1 0 0 0\n",
    "# 0 0 0 0 0 1\n",
    "# 0 0 0 0 1 0"
   ]
  },
  {
   "cell_type": "markdown",
   "metadata": {},
   "source": [
    "**Problem 4.2** Complete the implementation of a type representing\n",
    "permutation matrices that supports `P[k,j]` and such that `*` takes $O(n)$ operations."
   ]
  },
  {
   "cell_type": "code",
   "execution_count": 26,
   "metadata": {},
   "outputs": [
    {
     "data": {
      "text/plain": [
       "\u001b[32m\u001b[1mTest Passed\u001b[22m\u001b[39m\n",
       "  Expression: P == (I(5))[p, :]\n",
       "   Evaluated: [1 0 … 0 0; 0 0 … 1 0; … ; 0 0 … 0 1; 0 0 … 0 0] == sparse([1, 3, 5, 2, 4], [1, 2, 3, 4, 5], Bool[1, 1, 1, 1, 1], 5, 5)"
      ]
     },
     "metadata": {},
     "output_type": "display_data"
    }
   ],
   "source": [
    "struct PermutationMatrix <: AbstractMatrix{Int}\n",
    "    p::Vector{Int} # represents the permutation whose action is v[p]\n",
    "    function PermutationMatrix(p::Vector)\n",
    "        sort(p) == 1:length(p) || error(\"input is not a valid permutation\")\n",
    "        new(p)\n",
    "    end\n",
    "end\n",
    "\n",
    "size(P::PermutationMatrix) = (length(P.p),length(P.p))\n",
    "\n",
    "function getindex(P::PermutationMatrix, k::Int, j::Int)\n",
    "    # TODO: Return P[k,j]\n",
    "    if P.p[k] == j\n",
    "        return 1\n",
    "    else\n",
    "        return 0\n",
    "    end\n",
    "end\n",
    "\n",
    "function *(P::PermutationMatrix, x::AbstractVector)\n",
    "    # TODO: permute the entries of x\n",
    "    x[P.p]\n",
    "end\n",
    "\n",
    "# If your code is correct, this \"unit test\" will succeed\n",
    "p = [1, 4, 2, 5, 3]\n",
    "P = PermutationMatrix(p)\n",
    "@test P == I(5)[p,:]\n"
   ]
  },
  {
   "cell_type": "code",
   "execution_count": 39,
   "metadata": {},
   "outputs": [
    {
     "data": {
      "text/plain": [
       "5-element Vector{Int64}:\n",
       " 5\n",
       " 4\n",
       " 3\n",
       " 2\n",
       " 1"
      ]
     },
     "metadata": {},
     "output_type": "display_data"
    }
   ],
   "source": [
    "a = [1,2,3,4,5]\n",
    "a[[5,4,3,2,1]]"
   ]
  },
  {
   "cell_type": "code",
   "execution_count": 41,
   "metadata": {},
   "outputs": [
    {
     "name": "stdout",
     "output_type": "stream",
     "text": [
      "n = 10  110.098 ns (1 allocation: 144 bytes)\n",
      "n = 100  215.769 ns (1 allocation: 896 bytes)\n",
      "n = 1000  1.280 μs (1 allocation: 7.94 KiB)\n",
      "n = 10000  15.300 μs (2 allocations: 78.17 KiB)\n",
      "n = 100000  249.200 μs (2 allocations: 781.30 KiB)\n",
      "n = 1000000  6.398 ms (2 allocations: 7.63 MiB)\n",
      "n = 10000000  185.351 ms (2 allocations: 76.29 MiB)\n"
     ]
    }
   ],
   "source": [
    "using BenchmarkTools, Random\n",
    "x=0 # for some reason, an error \"UndefVarError: x not defined\" will occur without this line. p and P are previously defined so they work fine.\n",
    "for n = 10 .^ (1:7)\n",
    "    print(\"n = \", n)\n",
    "    p = randperm(n)\n",
    "    P = PermutationMatrix(p)\n",
    "    x = randn(n)\n",
    "    @btime P*x\n",
    "end"
   ]
  },
  {
   "cell_type": "markdown",
   "metadata": {},
   "source": [
    "## 5. Orthogonal matrices\n",
    "\n",
    "**Problem 5.1⋆** Show that orthogonal matrices preserve the 2-norm of vectors:\n",
    "$$\n",
    "\\|Q 𝐯\\| = \\|𝐯\\|.\n",
    "$$\n",
    "\n",
    "\n",
    "**Problem 5.2⋆** Show that the eigenvalues $λ$ of an orthogonal matrix $Q$ are\n",
    "on the unit circle: $|λ| = 1$.\n",
    "\n",
    "\n",
    "**Problem 5.3⋆** Explain why an orthogonal matrix $Q$ must be equal to $I$ if all its eigenvalues are 1.\n",
    "\n",
    "\n",
    "**Problem 5.4** Complete the implementation of a type representing\n",
    "reflections that supports `Q[k,j]` and such that `*` takes $O(n)$ operations."
   ]
  },
  {
   "cell_type": "code",
   "execution_count": null,
   "metadata": {
    "execution": {
     "iopub.execute_input": "2022-01-21T15:14:36.610522Z",
     "iopub.status.busy": "2022-01-21T15:14:36.609942Z",
     "iopub.status.idle": "2022-01-21T15:14:38.094778Z",
     "shell.execute_reply": "2022-01-21T15:14:38.094388Z"
    }
   },
   "outputs": [],
   "source": [
    "# Represents I - 2v*v'\n",
    "struct Reflection{T} <: AbstractMatrix{T}\n",
    "    v::Vector{T}\n",
    "end\n",
    "\n",
    "Reflection(x::Vector{T}) where T = Reflection{T}(x/norm(x))\n",
    "\n",
    "size(Q::Reflection) = (length(Q.v),length(Q.v))\n",
    "\n",
    "function getindex(Q::Reflection, k::Int, j::Int)\n",
    "    # TODO: Return Q[k,j]\n",
    "end\n",
    "\n",
    "function *(P::Reflection, x::AbstractVector)\n",
    "    # TODO: permute the entries of x\n",
    "end\n",
    "\n",
    "# If your code is correct, these \"unit tests\" will succeed\n",
    "x = randn(5)\n",
    "Q = Reflection(x)\n",
    "v = x/norm(x)\n",
    "@test Q == I-2v*v'\n",
    "@test Q*v ≈ -v\n",
    "@test Q'Q ≈ I"
   ]
  },
  {
   "cell_type": "markdown",
   "metadata": {},
   "source": [
    "**Problem 5.5** Complete the following implementation of a Housholder reflection  so that the\n",
    "unit tests pass."
   ]
  },
  {
   "cell_type": "code",
   "execution_count": null,
   "metadata": {
    "execution": {
     "iopub.execute_input": "2022-01-21T15:14:38.096777Z",
     "iopub.status.busy": "2022-01-21T15:14:38.096232Z",
     "iopub.status.idle": "2022-01-21T15:14:39.129435Z",
     "shell.execute_reply": "2022-01-21T15:14:39.129053Z"
    }
   },
   "outputs": [],
   "source": [
    "function householderreflection(s::Bool, x::AbstractVector)\n",
    "    # TODO: implement Householder reflection, returning a Reflection\n",
    "end\n",
    "\n",
    "x = randn(5)\n",
    "Q = householderreflection(true, x)\n",
    "@test Q isa Reflection\n",
    "@test Q*x ≈ norm(x)*[1; zeros(length(x)-1)]\n",
    "\n",
    "Q̃ = householderreflection(false, x)\n",
    "@test Q̃ isa Reflection\n",
    "@test Q̃*x ≈ -norm(x)*[1; zeros(length(x)-1)]"
   ]
  }
 ],
 "metadata": {
  "kernelspec": {
   "display_name": "Julia 1.7.1",
   "language": "julia",
   "name": "julia-1.7"
  },
  "language_info": {
   "file_extension": ".jl",
   "mimetype": "application/julia",
   "name": "julia",
   "version": "1.7.1"
  }
 },
 "nbformat": 4,
 "nbformat_minor": 2
}
