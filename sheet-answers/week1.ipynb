{
 "cells": [
  {
   "cell_type": "markdown",
   "metadata": {},
   "source": [
    "# MATH50003 Problem Sheet 1\n",
    "\n",
    "This problem sheet tests the representation of numbers on the computer, using\n",
    "modular arithmetic. We also use floating point rounding modes to implement \n",
    "interval arithmetic, and thereby\n",
    "produce rigorous bounds on the exponential."
   ]
  },
  {
   "cell_type": "code",
   "execution_count": 2,
   "metadata": {
    "execution": {
     "iopub.execute_input": "2022-01-16T19:38:09.768240Z",
     "iopub.status.busy": "2022-01-16T19:38:09.212476Z",
     "iopub.status.idle": "2022-01-16T19:38:10.081780Z",
     "shell.execute_reply": "2022-01-16T19:38:10.081013Z"
    }
   },
   "outputs": [],
   "source": [
    "using ColorBitstring, SetRounding"
   ]
  },
  {
   "cell_type": "markdown",
   "metadata": {},
   "source": [
    "Questions marked with a ⋆ are meant to be completed without using a computer.\n",
    "\n",
    "## 1. Binary representation\n",
    "\n",
    "\n",
    "**Problem 1.1** What is the binary representations of $1/5$? (Hint: use `printbits` to derive a proposed form.)\n",
    "\n",
    "\n",
    "\n",
    "**Problem 1.2⋆** What is $\\pi$ to 5 binary places? Hint: recall that $\\pi \\approx  3.14$."
   ]
  },
  {
   "cell_type": "code",
   "execution_count": 3,
   "metadata": {},
   "outputs": [
    {
     "name": "stdout",
     "output_type": "stream",
     "text": [
      "\u001b[31m0\u001b[0m\u001b[32m01111111100\u001b[0m\u001b[34m1001100110011001100110011001100110011001100110011010\u001b[0m\n"
     ]
    }
   ],
   "source": [
    "# Question 1.1\n",
    "\n",
    "printlnbits(1/5)"
   ]
  },
  {
   "cell_type": "code",
   "execution_count": 16,
   "metadata": {},
   "outputs": [
    {
     "data": {
      "text/plain": [
       "11.001"
      ]
     },
     "execution_count": 16,
     "metadata": {},
     "output_type": "execute_result"
    }
   ],
   "source": [
    "# Question 1.2\n",
    "\n",
    "pi = 11.00100"
   ]
  },
  {
   "cell_type": "markdown",
   "metadata": {},
   "source": [
    "## 2. Integers\n",
    "\n",
    "**Problem 2.1⋆** With 8-bit signed integers, find the bits for the following: $10, 120, -10$.\n",
    "\n",
    "\n",
    "**Problem 2.2⋆** What will `Int8(120) + Int8(10)` return?"
   ]
  },
  {
   "cell_type": "code",
   "execution_count": 17,
   "metadata": {},
   "outputs": [
    {
     "name": "stdout",
     "output_type": "stream",
     "text": [
      "\u001b[31m0\u001b[0m\u001b[34m0001010\u001b[0m\n",
      "\u001b[31m0\u001b[0m\u001b[34m1111000\u001b[0m\n",
      "\u001b[31m1\u001b[0m\u001b[34m1110110\u001b[0m\n"
     ]
    }
   ],
   "source": [
    "# Question 2.1\n",
    "\n",
    "# 10 = 0000001010\n",
    "# (10)_10 = (1010)_2\n",
    "\n",
    "# 120 = 01111000\n",
    "# (120)_10 = (1111000)\n",
    "\n",
    "# -10 = 111110110\n",
    "\n",
    "printlnbits(Int8(10))\n",
    "printlnbits(Int8(120))\n",
    "printlnbits(Int8(-10))"
   ]
  },
  {
   "cell_type": "code",
   "execution_count": 18,
   "metadata": {},
   "outputs": [
    {
     "name": "stdout",
     "output_type": "stream",
     "text": [
      "\u001b[31m1\u001b[0m\u001b[34m0000010\u001b[0m\n"
     ]
    }
   ],
   "source": [
    "# Question 2.2\n",
    "\n",
    "# 10000010\n",
    "\n",
    "printlnbits(Int8(10)+Int8(120))"
   ]
  },
  {
   "cell_type": "markdown",
   "metadata": {},
   "source": [
    "## 3. Floating point numbers\n",
    "\n",
    "**Problem 3.1⋆** What are the single precision $F_{32}$ (`Float32`) floating point representations for the following: \n",
    "$$\n",
    "2, 31, 32, 23/4, (23/4)\\times 2^{100}\n",
    "$$\n",
    "Check your answers using `printbits`.\n",
    "\n",
    "\n",
    "**Problem 3.2** Let $m(y) = \\min\\{x \\in F_{32} : x > y \\}$ be the smallest single precision number\n",
    "greater than $y$. What is $m(2) - 2$ and $m(1024) - 1024$? Check your answer using the `nextfloat`\n",
    "command."
   ]
  },
  {
   "cell_type": "code",
   "execution_count": 34,
   "metadata": {},
   "outputs": [
    {
     "name": "stdout",
     "output_type": "stream",
     "text": [
      "\u001b[31m0\u001b[0m\u001b[32m10000000\u001b[0m\u001b[34m00000000000000000000000\u001b[0m\n",
      "\u001b[31m0\u001b[0m\u001b[32m10000011\u001b[0m\u001b[34m11110000000000000000000\u001b[0m\n",
      "\u001b[31m0\u001b[0m\u001b[32m10000100\u001b[0m\u001b[34m00000000000000000000000\u001b[0m\n",
      "\u001b[31m0\u001b[0m\u001b[32m10000001\u001b[0m\u001b[34m01110000000000000000000\u001b[0m\n",
      "\u001b[31m0\u001b[0m\u001b[32m11100101\u001b[0m\u001b[34m01110000000000000000000\u001b[0m\n"
     ]
    }
   ],
   "source": [
    "# Question 3.1\n",
    "\n",
    "# 2 = 0 10000000 00000000000000000000000\n",
    "# q-σ = 1 ⟹ q = 128\n",
    "\n",
    "printlnbits(Float32(2.0))\n",
    "\n",
    "# 31 = 0 10000011 11110000000000000000000\n",
    "# 31 = 11111.00000--- = 2^(4) (1.11110000---)\n",
    "# q-σ = 4 ⟹ q = 131\n",
    "\n",
    "printlnbits(Float32(31))\n",
    "\n",
    "# 32 = 100000.00- = 2^(5) (1.00-)\n",
    "# q-σ = 5 ⟹ q = 132\n",
    "# ⟹ 32 = 0 10000100 00000000000000000000000\n",
    "\n",
    "printlnbits(Float32(32))\n",
    "\n",
    "# 23/4 = 2^(-2) (10111) = 2^(2) (1.0111)\n",
    "# q-σ = 2 ⟹ q = 129\n",
    "# ⟹ 23/4 = 0 10000001 01110000000000000000000\n",
    "\n",
    "printlnbits(Float32(23/4))\n",
    "\n",
    "# (23/4) 2^(100) = 2^(102) (1.0111)\n",
    "# q-σ = 229 = 11100101\n",
    "# 0 11100101 01110000000000000000000\n",
    "\n",
    "printlnbits(Float32((23/4)*2^(100.0)))"
   ]
  },
  {
   "cell_type": "code",
   "execution_count": null,
   "metadata": {},
   "outputs": [],
   "source": [
    "1 2 4 8 16 32 64 128"
   ]
  },
  {
   "cell_type": "code",
   "execution_count": 65,
   "metadata": {},
   "outputs": [
    {
     "name": "stdout",
     "output_type": "stream",
     "text": [
      "\u001b[31m0\u001b[0m\u001b[32m10000000000\u001b[0m\u001b[34m0000000000000000000000000000000000000000000000000001\u001b[0m\n",
      "\u001b[31m0\u001b[0m\u001b[32m10000000000\u001b[0m\u001b[34m0000000000000000000000000000000000000000000000000000\u001b[0m\n",
      "\u001b[31m0\u001b[0m\u001b[32m01111001100\u001b[0m\u001b[34m0000000000000000000000000000000000000000000000000000\u001b[0m\n",
      "\u001b[31m0\u001b[0m\u001b[32m01110010\u001b[0m\u001b[34m00000000000000000000000\u001b[0m\n",
      "\u001b[31m0\u001b[0m\u001b[32m10001001\u001b[0m\u001b[34m00000000000000000000000\u001b[0m\n"
     ]
    }
   ],
   "source": [
    "# Question 3.2\n",
    "\n",
    "# m(2)-2\n",
    "# 2 = 0 10000000 00000000000000000000000 = 2^(128-σ)(1.0000...00)\n",
    "# ⟹ m(2) = 0 10000000 (0.)00000000000000000000001 = 2^(128-σ)(1.0000...001)\n",
    "# ⟹ m(2)-2 = (-1)^0*2^(128-σ)(0.0000...001) = 2^(128-σ)[(1.0000...001)_2 - (1.0000...00)_2] = 2^(128-23-σ)(1.00-)\n",
    "# q-σ = -23 ⟹ q=104\n",
    "# m(2)-2 = 0 01111001100 00000000000000000000000\n",
    "\n",
    "printlnbits(nextfloat(2.0))\n",
    "printlnbits(2.0)\n",
    "printlnbits(nextfloat(2.0)-2.0)\n",
    "\n",
    "# m(1024)-1024\n",
    "# 1024 = 2^(137-σ) (1.000...00)\n",
    "# m(1024) = 2^(137-σ) (1.000...01)\n",
    "# ⟹ m(1024) - 1024 = 2^(137-σ) (0.000...01) = 2^(137-23-σ) (1.000...00)\n",
    "# ⟹ q = 114 = (01110010)_2\n",
    "# ⟹ m(1024)-1024 = 0 01110010 0000000000000000000000\n",
    "printlnbits(nextfloat(Float32(1024))-Float32(1024))\n",
    "printlnbits(Float32(1024))"
   ]
  },
  {
   "cell_type": "markdown",
   "metadata": {},
   "source": [
    "## 4. Arithmetic\n",
    "\n",
    "\n",
    "**Problem 4.1⋆** Suppose $x = 1.25$ and consider 16-bit floating point arithmetic (`Float16`). \n",
    "What is the error in approximating $x$ by the nearest float point number ${\\rm fl}(x)$?\n",
    "What is the error in approximating $2x$, $x/2$, $x + 2$ and $x - 2$ by $2 \\otimes x$, $x \\oslash 2$, $x ⊕ 2$ and $x \\ominus 2$?\n",
    "\n",
    "**Problem 4.2⋆** For what floating point numbers is $x \\oslash 2 \\neq x/2$ and $x ⊕ 2 \\neq x + 2$?\n",
    "\n",
    "\n",
    "\n",
    "\n",
    "**Problem 4.3⋆** Explain why the following return `true`. What is the largest floating point number `y` such that `y + 1 ≠ y`?"
   ]
  },
  {
   "cell_type": "code",
   "execution_count": 66,
   "metadata": {
    "execution": {
     "iopub.execute_input": "2022-01-16T19:38:10.084956Z",
     "iopub.status.busy": "2022-01-16T19:38:10.083796Z",
     "iopub.status.idle": "2022-01-16T19:38:10.589602Z",
     "shell.execute_reply": "2022-01-16T19:38:10.589144Z"
    }
   },
   "outputs": [
    {
     "data": {
      "text/plain": [
       "true"
      ]
     },
     "execution_count": 66,
     "metadata": {},
     "output_type": "execute_result"
    }
   ],
   "source": [
    "x = 10.0^100\n",
    "x + 1 == x"
   ]
  },
  {
   "cell_type": "code",
   "execution_count": null,
   "metadata": {},
   "outputs": [],
   "source": [
    "# Question 4.1\n",
    "\n",
    "# x = 1.25\n",
    "# nearest float has error δ = ϵ/2\n",
    "\n",
    "# 2x, x/2, x+2, x-2 have error 0\n",
    "# 2x ≈ 2 ⊗ x = fl(2x) = fl(2.5) = 2.5\n",
    "# etc. :)"
   ]
  },
  {
   "cell_type": "code",
   "execution_count": null,
   "metadata": {},
   "outputs": [],
   "source": [
    "# Question 4.2\n",
    "\n",
    "# x ⊘ 2 \\neq x/2 when there's a 1 at the end of all the bits\n",
    "\n",
    "# x ⊕ 2 \\neq x + 2 when x \\neq fl(x)"
   ]
  },
  {
   "cell_type": "code",
   "execution_count": 112,
   "metadata": {},
   "outputs": [
    {
     "name": "stdout",
     "output_type": "stream",
     "text": [
      "\u001b[31m0\u001b[0m\u001b[32m10101001011\u001b[0m\u001b[34m0010010010011010110100100101100101001100001101111101\u001b[0m\n",
      "\u001b[31m0\u001b[0m\u001b[32m10000110100\u001b[0m\u001b[34m0000000000000000000000000000000000000000000000000000\u001b[0m\n",
      "\u001b[31m0\u001b[0m\u001b[32m10000110100\u001b[0m\u001b[34m0000000000000000000000000000000000000000000000000000\u001b[0m\n"
     ]
    },
    {
     "data": {
      "text/plain": [
       "true"
      ]
     },
     "execution_count": 112,
     "metadata": {},
     "output_type": "execute_result"
    }
   ],
   "source": [
    "# Question 4.3\n",
    "\n",
    "# Because of rounding :)\n",
    "\n",
    "# Largest y\n",
    "# 1 = 2^(1023-σ) (1.000...00) = 2^(1023+52-σ) (0.000...00)\n",
    "# so y ≥ 2^(1075+1-σ)(1.11...11) ⟹ y + 1 \\neq y\n",
    "\n",
    "y = 2^(53.0)\n",
    "x = 10.0^100\n",
    "printlnbits(x)\n",
    "printlnbits(y)\n",
    "printlnbits(y+1)\n",
    "y==y+1"
   ]
  },
  {
   "cell_type": "markdown",
   "metadata": {},
   "source": [
    "**Problem 4.4⋆** What are the exact bits for $1/5$, $1/5 + 1$ computed\n",
    "using  half-precision arithmetic (`Float16`) (using default rounding)?\n",
    "\n",
    "\n",
    "\n",
    "**Problem 4.5⋆** Explain why the following does not return `1`. Can you compute the bits explicitly?"
   ]
  },
  {
   "cell_type": "code",
   "execution_count": 120,
   "metadata": {},
   "outputs": [
    {
     "name": "stdout",
     "output_type": "stream",
     "text": [
      "\u001b[31m0\u001b[0m\u001b[32m01100\u001b[0m\u001b[34m1001100110\u001b[0m\n"
     ]
    }
   ],
   "source": [
    "# Question 4.4\n",
    "\n",
    "# 1/5 = 0 01111111100 1001100110011001100110011001100110011001100110011010\n",
    "# q - σ = -3 in double precision\n",
    "# q = 12 = (01100)_2\n",
    "# ⟹ 1/5 = 0 01100 1001100110\n",
    "printlnbits(Float16(1/5))"
   ]
  },
  {
   "cell_type": "code",
   "execution_count": 132,
   "metadata": {},
   "outputs": [
    {
     "data": {
      "text/plain": [
       "Float16(1.004)"
      ]
     },
     "execution_count": 132,
     "metadata": {},
     "output_type": "execute_result"
    }
   ],
   "source": [
    "Float16(0.1)/(Float16(1.1)-1)"
   ]
  },
  {
   "cell_type": "code",
   "execution_count": 137,
   "metadata": {},
   "outputs": [
    {
     "name": "stdout",
     "output_type": "stream",
     "text": [
      "\u001b[31m0\u001b[0m\u001b[32m01011\u001b[0m\u001b[34m1001100000\u001b[0m\n",
      "\u001b[31m0\u001b[0m\u001b[32m01111\u001b[0m\u001b[34m0001100110\u001b[0m\n",
      "\u001b[31m0\u001b[0m\u001b[32m01111\u001b[0m\u001b[34m0000000000\u001b[0m\n",
      "\u001b[31m0\u001b[0m\u001b[32m01011\u001b[0m\u001b[34m1001100110\u001b[0m\n"
     ]
    }
   ],
   "source": [
    "# Question 4.5\n",
    "\n",
    "printlnbits(Float16(1.1)-1)\n",
    "printlnbits(Float16(1.1))\n",
    "printlnbits(Float16(1.0))\n",
    "printlnbits(Float16(0.1))\n",
    "\n",
    "# DENOMINATOR\n",
    "# 2^(15) (1.0001100110) - 2^(15) (1.0000000000)\n",
    "# = 2^(15) (0.0001100110)\n",
    "# = 2^(11) (1.1001100000)\n",
    "\n",
    "# NUMERATOR\n",
    "# 2^(11) (1.10011001100)\n",
    "\n",
    "#Therefore the denominator is less accurate than the numerator"
   ]
  },
  {
   "cell_type": "code",
   "execution_count": 138,
   "metadata": {},
   "outputs": [
    {
     "data": {
      "text/plain": [
       "15"
      ]
     },
     "execution_count": 138,
     "metadata": {},
     "output_type": "execute_result"
    }
   ],
   "source": [
    "1+2+4+8"
   ]
  },
  {
   "cell_type": "markdown",
   "metadata": {},
   "source": [
    "**Problem 4.6⋆** Find a bound on the _absolute error_ in terms of a constant times\n",
    "$ϵ_{\\rm m}$ for the following computations\n",
    "$$\n",
    "\\begin{align*}\n",
    "(1.1 * 1.2) &+ 1.3 \\\\\n",
    "(1.1 - 1) &/ 0.1 \n",
    "\\end{align*}\n",
    "$$\n",
    "implemented using floating point arithmetic (with any precision). "
   ]
  },
  {
   "cell_type": "code",
   "execution_count": null,
   "metadata": {},
   "outputs": [],
   "source": [
    "# Question 4.6\n",
    "\n",
    "# ((1.1 + δ) * (1.2 + δ) + δ + (1.3 + δ)) + δ\n",
    "# = 1.32 + 3.3δ + δ^2 + (1.3 + δ) + δ\n",
    "# = 2.62 + 5.2δ + δ^2\n",
    "# ≤ 2.62 + 2.6ϵ_m + 0.25ϵ_m^2\n",
    "# ≤ 2.62 + 2.85ϵ_m\n",
    "\n",
    "# (((1.1 + δ) - (1 + δ) + δ) / (0.1 + δ)) + δ\n",
    "# ≤ (0.1 + 3δ)/(0.1 + δ) + δ\n",
    "# "
   ]
  },
  {
   "cell_type": "code",
   "execution_count": 139,
   "metadata": {},
   "outputs": [
    {
     "data": {
      "text/plain": [
       "1.32"
      ]
     },
     "execution_count": 139,
     "metadata": {},
     "output_type": "execute_result"
    }
   ],
   "source": [
    "1.1*1.2"
   ]
  },
  {
   "cell_type": "markdown",
   "metadata": {},
   "source": [
    "## 5. Interval arithmetic\n",
    "\n",
    "\n",
    "The following problems consider implementation of interval arithmetic for\n",
    "proving precise bounds on arithmetic operations. That is recall the set operations\n",
    "$$\n",
    "A + B = \\{x + y : x \\in A, y \\in B\\}, AB = \\{xy : x \\in A, y \\in B\\}.\n",
    "$$\n",
    "\n",
    "**Problem 5.1⋆** For intervals $A = [a,b]$ and $B = [c,d]$ such that $0 \\notin A,B$\n",
    " and integer $n \\neq 0$, \n",
    "deduce formulas for the minimum and maximum of $A/n$, $A+B$ and $AB$.\n",
    "\n",
    "\n",
    "\n",
    "\n",
    "\n",
    "\n",
    "**Problem 5.2** \n",
    "We want to implement floating point variants such that, for $S = [a,b] + [c,d]$\n",
    " $P = [a,b] * [c,d]$, and $D = [a,b]/n$ for an integer $n$,\n",
    "$$\n",
    "\\begin{align*}\n",
    "[a,b] ⊕ [c,d] &:= [{\\rm fl}^{\\rm down}(\\min S), {\\rm fl}^{\\rm up}(\\max S)] \\\\\n",
    "[a,b] ⊗ [c,d] &:= [{\\rm fl}^{\\rm down}(\\min P), {\\rm fl}^{\\rm up}(\\max P)] \\\\\n",
    "[a,b] ⊘ n &:= [{\\rm fl}^{\\rm down}(\\min D), {\\rm fl}^{\\rm up}(\\max D)]\n",
    "\\end{align*}\n",
    "$$\n",
    "This guarantees $S ⊆ [a,b] ⊕ [c,d]$, $P ⊆ [a,b] ⊗ [c,d]$, and\n",
    "$D ⊆ [a,b] ⊘ n$.\n",
    "In other words, if $x \\in [a,b]$ and\n",
    "$y \\in [c,d]$ then $x +y \\in [a,b] ⊕ [c,d]$, and we thereby have  bounds on $x + y$.\n",
    "\n",
    "Use the formulae from Problem 5.1 to complete (by replacing the `# TODO: …` comments with code)\n",
    " the following implementation of an \n",
    "`Interval` \n",
    "so that `+`, `-`, and `/` implement $⊕$, $⊖$, and $⊘$ as defined above."
   ]
  },
  {
   "cell_type": "code",
   "execution_count": null,
   "metadata": {},
   "outputs": [],
   "source": [
    "# Question 5.1\n",
    "\n",
    "# A = [a,b], B = [c.d]\n",
    "# ⟹ a/n ≤ A/n ≤ b/n\n",
    "#    a+c ≤ A+B ≤ b+d\n",
    "#    ac ≤ AB ≤ bd"
   ]
  },
  {
   "cell_type": "code",
   "execution_count": 140,
   "metadata": {
    "execution": {
     "iopub.execute_input": "2022-01-16T19:38:10.849299Z",
     "iopub.status.busy": "2022-01-16T19:38:10.848609Z",
     "iopub.status.idle": "2022-01-16T19:38:11.316859Z",
     "shell.execute_reply": "2022-01-16T19:38:11.316293Z"
    }
   },
   "outputs": [
    {
     "data": {
      "text/plain": [
       "* (generic function with 365 methods)"
      ]
     },
     "execution_count": 140,
     "metadata": {},
     "output_type": "execute_result"
    }
   ],
   "source": [
    "# Questions 5.2\n",
    "\n",
    "# Interval(a,b) represents the closed interval [a,b]\n",
    "struct Interval{T}\n",
    "    a::T\n",
    "    b::T\n",
    "end\n",
    "\n",
    "import Base: *, +, -, /, one, in\n",
    "\n",
    "# create an interval corresponding to [1,1]\n",
    "one(x::Interval) = Interval(one(x.a), one(x.b))\n",
    "\n",
    "# Support x in Interval(a,b)\n",
    "in(x, y::Interval) = y.a ≤ x ≤ y.b\n",
    "\n",
    "# Following should implement ⊕\n",
    "function +(x::Interval, y::Interval)\n",
    "    T = promote_type(typeof(x.a), typeof(x.b))\n",
    "    a = setrounding(T, RoundDown) do\n",
    "        x.a + y.a\n",
    "    end\n",
    "    b = setrounding(T, RoundUp) do\n",
    "        x.b + y.b\n",
    "    end\n",
    "    Interval(a, b)\n",
    "end\n",
    "\n",
    "# Following should implement ⊘\n",
    "function /(x::Interval, n::Integer)\n",
    "    T = typeof(x.a)\n",
    "    if iszero(n)\n",
    "        error(\"Dividing by zero not supported\")\n",
    "    end\n",
    "    a = setrounding(T, RoundDown) do\n",
    "        x.a/n\n",
    "    end\n",
    "    b = setrounding(T, RoundUp) do\n",
    "        x.b/n\n",
    "    end\n",
    "    Interval(a, b)\n",
    "end\n",
    "\n",
    "# Following should implement ⊗\n",
    "function *(x::Interval, y::Interval)\n",
    "    T = promote_type(typeof(x.a), typeof(x.b))\n",
    "    if 0 in x || 0 in y\n",
    "        error(\"Multiplying with intervals containing 0 not supported.\")\n",
    "    end\n",
    "    a = setrounding(T, RoundDown) do\n",
    "        x.a * y.a\n",
    "    end\n",
    "    b = setrounding(T, RoundUp) do\n",
    "        x.b * y.b\n",
    "    end\n",
    "    Interval(a, b)\n",
    "end"
   ]
  },
  {
   "cell_type": "code",
   "execution_count": 152,
   "metadata": {},
   "outputs": [
    {
     "ename": "LoadError",
     "evalue": "MethodError: no method matching rounding_raw(::Type{Int64})\n\u001b[0mClosest candidates are:\n\u001b[0m  rounding_raw(\u001b[91m::Type{BigFloat}\u001b[39m) at C:\\Users\\elean\\AppData\\Local\\Programs\\Julia-1.7.1\\share\\julia\\base\\mpfr.jl:121\n\u001b[0m  rounding_raw(\u001b[91m::Type{<:Union{Float32, Float64}}\u001b[39m) at C:\\Users\\elean\\AppData\\Local\\Programs\\Julia-1.7.1\\share\\julia\\base\\rounding.jl:155",
     "output_type": "error",
     "traceback": [
      "MethodError: no method matching rounding_raw(::Type{Int64})\n\u001b[0mClosest candidates are:\n\u001b[0m  rounding_raw(\u001b[91m::Type{BigFloat}\u001b[39m) at C:\\Users\\elean\\AppData\\Local\\Programs\\Julia-1.7.1\\share\\julia\\base\\mpfr.jl:121\n\u001b[0m  rounding_raw(\u001b[91m::Type{<:Union{Float32, Float64}}\u001b[39m) at C:\\Users\\elean\\AppData\\Local\\Programs\\Julia-1.7.1\\share\\julia\\base\\rounding.jl:155",
      "",
      "Stacktrace:",
      " [1] setrounding(f::var\"#1#3\"{Interval{Int64}, Interval{Int64}}, #unused#::Type{Int64}, rounding::RoundingMode{:Down})",
      "   @ Base.Rounding .\\rounding.jl:173",
      " [2] +(x::Interval{Int64}, y::Interval{Int64})",
      "   @ Main .\\In[140]:20",
      " [3] top-level scope",
      "   @ In[152]:3",
      " [4] eval",
      "   @ .\\boot.jl:373 [inlined]",
      " [5] include_string(mapexpr::typeof(REPL.softscope), mod::Module, code::String, filename::String)",
      "   @ Base .\\loading.jl:1196"
     ]
    }
   ],
   "source": [
    "x = Interval(1,2)\n",
    "y = Interval(5,7)\n",
    "x+y"
   ]
  },
  {
   "cell_type": "markdown",
   "metadata": {},
   "source": [
    "**Problem 5.3** The following function  computes the first `n+1` terms of the Taylor series of $\\exp(x)$:\n",
    "$$\n",
    "\\sum_{k=0}^n {x^k \\over k!}\n",
    "$$"
   ]
  },
  {
   "cell_type": "code",
   "execution_count": 153,
   "metadata": {
    "execution": {
     "iopub.execute_input": "2022-01-16T19:38:11.318972Z",
     "iopub.status.busy": "2022-01-16T19:38:11.318430Z",
     "iopub.status.idle": "2022-01-16T19:38:11.400754Z",
     "shell.execute_reply": "2022-01-16T19:38:11.400330Z"
    }
   },
   "outputs": [
    {
     "data": {
      "text/plain": [
       "exp_t (generic function with 1 method)"
      ]
     },
     "execution_count": 153,
     "metadata": {},
     "output_type": "execute_result"
    }
   ],
   "source": [
    "function exp_t(x, n)\n",
    "    ret = one(x) # 1 of same type as x\n",
    "    s = one(x)\n",
    "    for k = 1:n\n",
    "        s = s/k * x\n",
    "        ret = ret + s\n",
    "    end\n",
    "    ret\n",
    "end"
   ]
  },
  {
   "cell_type": "markdown",
   "metadata": {},
   "source": [
    "Bound the tail of the Taylor series for ${\\rm e}^x$ assuming $|x| \\leq 1$. \n",
    "(Hint: ${\\rm e}^x \\leq 3$ for $x \\leq 1$.)\n",
    "Use the bound\n",
    "to complete the function `exp_bound` which computes ${\\rm e}^x$ with rigorous error bounds, that is\n",
    "so that when applied to an interval $[a,b]$ it returns an interval that is \n",
    "guaranteed to contain the interval $[{\\rm e}^a, {\\rm e}^b]$."
   ]
  },
  {
   "cell_type": "code",
   "execution_count": 166,
   "metadata": {
    "execution": {
     "iopub.execute_input": "2022-01-16T19:38:11.403419Z",
     "iopub.status.busy": "2022-01-16T19:38:11.402609Z",
     "iopub.status.idle": "2022-01-16T19:38:11.485044Z",
     "shell.execute_reply": "2022-01-16T19:38:11.484637Z"
    }
   },
   "outputs": [
    {
     "data": {
      "text/plain": [
       "exp_bound (generic function with 1 method)"
      ]
     },
     "execution_count": 166,
     "metadata": {},
     "output_type": "execute_result"
    }
   ],
   "source": [
    "function exp_bound(x::Interval, n)\n",
    "    if abs(x.a) > 1 || abs(x.b) > 1\n",
    "        error(\"Interval must be a subset of [-1, 1]\")\n",
    "    end\n",
    "    ret = exp_t(x, n) # the code for Taylor series should work on Interval unmodified\n",
    "    f = factorial(min(20, n + 1)) # avoid overflow in computing factorial\n",
    "    T = typeof(ret.a)\n",
    "\n",
    "    # TODO: modify ret so that exp(x) is guaranteed to lie in it\n",
    "    ret = Interval(ret.a-3/f, ret.b+3/f)\n",
    "    ret\n",
    "\n",
    "end"
   ]
  },
  {
   "cell_type": "markdown",
   "metadata": {},
   "source": [
    "Check your result for computing ${\\rm ℯ}$ and ${\\rm e}^{-1}$ by assuring that\n",
    "the following returns true:"
   ]
  },
  {
   "cell_type": "code",
   "execution_count": 167,
   "metadata": {
    "execution": {
     "iopub.execute_input": "2022-01-16T19:38:11.487272Z",
     "iopub.status.busy": "2022-01-16T19:38:11.486724Z",
     "iopub.status.idle": "2022-01-16T19:38:12.956739Z",
     "shell.execute_reply": "2022-01-16T19:38:12.955908Z"
    }
   },
   "outputs": [
    {
     "data": {
      "text/plain": [
       "true"
      ]
     },
     "execution_count": 167,
     "metadata": {},
     "output_type": "execute_result"
    }
   ],
   "source": [
    "exp(big(1)) in exp_bound(Interval(1.0,1.0), 20) && exp(big(-1)) in exp_bound(Interval(-1.0,-1.0), 20)"
   ]
  },
  {
   "cell_type": "markdown",
   "metadata": {},
   "source": [
    "Further, ensure that the width of each returned interval is less than $10^{-14}$."
   ]
  },
  {
   "cell_type": "code",
   "execution_count": null,
   "metadata": {},
   "outputs": [],
   "source": [
    "# Use big n"
   ]
  }
 ],
 "metadata": {
  "kernelspec": {
   "display_name": "Julia 1.7.1",
   "language": "julia",
   "name": "julia-1.7"
  },
  "language_info": {
   "file_extension": ".jl",
   "mimetype": "application/julia",
   "name": "julia",
   "version": "1.7.1"
  }
 },
 "nbformat": 4,
 "nbformat_minor": 2
}
